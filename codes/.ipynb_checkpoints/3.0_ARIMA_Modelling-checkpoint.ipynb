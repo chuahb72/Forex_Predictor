{
 "cells": [
  {
   "cell_type": "markdown",
   "metadata": {},
   "source": [
    "# <font color=green>Import Libraries</font>"
   ]
  },
  {
   "cell_type": "code",
   "execution_count": 1,
   "metadata": {},
   "outputs": [],
   "source": [
    "from datetime import datetime\n",
    "import pandas as pd\n",
    "pd.set_option(\"display.max.columns\", None)\n",
    "import numpy as np\n",
    "\n",
    "import matplotlib.pyplot as plt\n",
    "%matplotlib inline\n",
    "import seaborn as sns\n",
    "sns.set_style('whitegrid')\n",
    "\n",
    "import statsmodels.api as sm  \n",
    "from statsmodels.tsa.stattools import acf, pacf, adfuller\n",
    "from statsmodels.graphics.tsaplots import plot_acf, plot_pacf\n",
    "from statsmodels.tsa.seasonal import seasonal_decompose\n",
    "from statsmodels.tsa.arima_model import ARMA, ARIMA\n",
    "from statsmodels.tsa.statespace.sarimax import SARIMAX\n",
    "\n",
    "from sklearn.metrics import mean_absolute_error, mean_squared_error"
   ]
  },
  {
   "cell_type": "markdown",
   "metadata": {},
   "source": [
    "# <font color=green>D1 Timeframe</font>"
   ]
  },
  {
   "cell_type": "code",
   "execution_count": 2,
   "metadata": {},
   "outputs": [
    {
     "data": {
      "text/html": [
       "<div>\n",
       "<style scoped>\n",
       "    .dataframe tbody tr th:only-of-type {\n",
       "        vertical-align: middle;\n",
       "    }\n",
       "\n",
       "    .dataframe tbody tr th {\n",
       "        vertical-align: top;\n",
       "    }\n",
       "\n",
       "    .dataframe thead th {\n",
       "        text-align: right;\n",
       "    }\n",
       "</style>\n",
       "<table border=\"1\" class=\"dataframe\">\n",
       "  <thead>\n",
       "    <tr style=\"text-align: right;\">\n",
       "      <th></th>\n",
       "      <th>open</th>\n",
       "      <th>high</th>\n",
       "      <th>low</th>\n",
       "      <th>close</th>\n",
       "      <th>day_of_wk</th>\n",
       "    </tr>\n",
       "    <tr>\n",
       "      <th>date</th>\n",
       "      <th></th>\n",
       "      <th></th>\n",
       "      <th></th>\n",
       "      <th></th>\n",
       "      <th></th>\n",
       "    </tr>\n",
       "  </thead>\n",
       "  <tbody>\n",
       "    <tr>\n",
       "      <th>2003-01-01</th>\n",
       "      <td>1.0504</td>\n",
       "      <td>1.0504</td>\n",
       "      <td>1.0468</td>\n",
       "      <td>1.0476</td>\n",
       "      <td>Wednesday</td>\n",
       "    </tr>\n",
       "    <tr>\n",
       "      <th>2003-01-02</th>\n",
       "      <td>1.0475</td>\n",
       "      <td>1.0488</td>\n",
       "      <td>1.0338</td>\n",
       "      <td>1.0384</td>\n",
       "      <td>Thursday</td>\n",
       "    </tr>\n",
       "    <tr>\n",
       "      <th>2003-01-03</th>\n",
       "      <td>1.0383</td>\n",
       "      <td>1.0437</td>\n",
       "      <td>1.0342</td>\n",
       "      <td>1.0423</td>\n",
       "      <td>Friday</td>\n",
       "    </tr>\n",
       "    <tr>\n",
       "      <th>2003-01-04</th>\n",
       "      <td>NaN</td>\n",
       "      <td>NaN</td>\n",
       "      <td>NaN</td>\n",
       "      <td>NaN</td>\n",
       "      <td>Saturday</td>\n",
       "    </tr>\n",
       "    <tr>\n",
       "      <th>2003-01-05</th>\n",
       "      <td>1.0420</td>\n",
       "      <td>1.0451</td>\n",
       "      <td>1.0418</td>\n",
       "      <td>1.0448</td>\n",
       "      <td>Sunday</td>\n",
       "    </tr>\n",
       "    <tr>\n",
       "      <th>2003-01-06</th>\n",
       "      <td>1.0447</td>\n",
       "      <td>1.0496</td>\n",
       "      <td>1.0425</td>\n",
       "      <td>1.0440</td>\n",
       "      <td>Monday</td>\n",
       "    </tr>\n",
       "    <tr>\n",
       "      <th>2003-01-07</th>\n",
       "      <td>1.0439</td>\n",
       "      <td>1.0453</td>\n",
       "      <td>1.0398</td>\n",
       "      <td>1.0421</td>\n",
       "      <td>Tuesday</td>\n",
       "    </tr>\n",
       "    <tr>\n",
       "      <th>2003-01-08</th>\n",
       "      <td>1.0422</td>\n",
       "      <td>1.0536</td>\n",
       "      <td>1.0364</td>\n",
       "      <td>1.0518</td>\n",
       "      <td>Wednesday</td>\n",
       "    </tr>\n",
       "    <tr>\n",
       "      <th>2003-01-09</th>\n",
       "      <td>1.0517</td>\n",
       "      <td>1.0542</td>\n",
       "      <td>1.0463</td>\n",
       "      <td>1.0494</td>\n",
       "      <td>Thursday</td>\n",
       "    </tr>\n",
       "    <tr>\n",
       "      <th>2003-01-10</th>\n",
       "      <td>1.0495</td>\n",
       "      <td>1.0587</td>\n",
       "      <td>1.0492</td>\n",
       "      <td>1.0571</td>\n",
       "      <td>Friday</td>\n",
       "    </tr>\n",
       "    <tr>\n",
       "      <th>2003-01-11</th>\n",
       "      <td>NaN</td>\n",
       "      <td>NaN</td>\n",
       "      <td>NaN</td>\n",
       "      <td>NaN</td>\n",
       "      <td>Saturday</td>\n",
       "    </tr>\n",
       "    <tr>\n",
       "      <th>2003-01-12</th>\n",
       "      <td>1.0581</td>\n",
       "      <td>1.0588</td>\n",
       "      <td>1.0567</td>\n",
       "      <td>1.0572</td>\n",
       "      <td>Sunday</td>\n",
       "    </tr>\n",
       "    <tr>\n",
       "      <th>2003-01-13</th>\n",
       "      <td>1.0571</td>\n",
       "      <td>1.0573</td>\n",
       "      <td>1.0528</td>\n",
       "      <td>1.0556</td>\n",
       "      <td>Monday</td>\n",
       "    </tr>\n",
       "    <tr>\n",
       "      <th>2003-01-14</th>\n",
       "      <td>1.0564</td>\n",
       "      <td>1.0599</td>\n",
       "      <td>1.0546</td>\n",
       "      <td>1.0553</td>\n",
       "      <td>Tuesday</td>\n",
       "    </tr>\n",
       "    <tr>\n",
       "      <th>2003-01-15</th>\n",
       "      <td>1.0552</td>\n",
       "      <td>1.0593</td>\n",
       "      <td>1.0506</td>\n",
       "      <td>1.0556</td>\n",
       "      <td>Wednesday</td>\n",
       "    </tr>\n",
       "  </tbody>\n",
       "</table>\n",
       "</div>"
      ],
      "text/plain": [
       "              open    high     low   close  day_of_wk\n",
       "date                                                 \n",
       "2003-01-01  1.0504  1.0504  1.0468  1.0476  Wednesday\n",
       "2003-01-02  1.0475  1.0488  1.0338  1.0384   Thursday\n",
       "2003-01-03  1.0383  1.0437  1.0342  1.0423     Friday\n",
       "2003-01-04     NaN     NaN     NaN     NaN   Saturday\n",
       "2003-01-05  1.0420  1.0451  1.0418  1.0448     Sunday\n",
       "2003-01-06  1.0447  1.0496  1.0425  1.0440     Monday\n",
       "2003-01-07  1.0439  1.0453  1.0398  1.0421    Tuesday\n",
       "2003-01-08  1.0422  1.0536  1.0364  1.0518  Wednesday\n",
       "2003-01-09  1.0517  1.0542  1.0463  1.0494   Thursday\n",
       "2003-01-10  1.0495  1.0587  1.0492  1.0571     Friday\n",
       "2003-01-11     NaN     NaN     NaN     NaN   Saturday\n",
       "2003-01-12  1.0581  1.0588  1.0567  1.0572     Sunday\n",
       "2003-01-13  1.0571  1.0573  1.0528  1.0556     Monday\n",
       "2003-01-14  1.0564  1.0599  1.0546  1.0553    Tuesday\n",
       "2003-01-15  1.0552  1.0593  1.0506  1.0556  Wednesday"
      ]
     },
     "execution_count": 2,
     "metadata": {},
     "output_type": "execute_result"
    }
   ],
   "source": [
    "# read in D1 time frame price data\n",
    "df_d1 = pd.read_csv('../data/df_d1.csv', index_col='date')\n",
    "df_d1.index = pd.to_datetime(df_d1.index)\n",
    "df_d1['day_of_wk'] = df_d1.index\n",
    "df_d1['day_of_wk'] = df_d1['day_of_wk'].dt.day_name()\n",
    "df_d1.head(15)"
   ]
  },
  {
   "cell_type": "code",
   "execution_count": 3,
   "metadata": {},
   "outputs": [
    {
     "data": {
      "text/plain": [
       "date\n",
       "2003-01-04    Saturday\n",
       "2003-01-11    Saturday\n",
       "2003-01-18    Saturday\n",
       "2003-01-25    Saturday\n",
       "2003-02-01    Saturday\n",
       "                ...   \n",
       "2019-11-30    Saturday\n",
       "2019-12-07    Saturday\n",
       "2019-12-14    Saturday\n",
       "2019-12-21    Saturday\n",
       "2019-12-28    Saturday\n",
       "Name: day_of_wk, Length: 902, dtype: object"
      ]
     },
     "execution_count": 3,
     "metadata": {},
     "output_type": "execute_result"
    }
   ],
   "source": [
    "# Nulls only occurs on Saturday which is not a trading day\n",
    "# Safely drop nulls\n",
    "df_d1[df_d1['open'].isnull()]['day_of_wk']"
   ]
  },
  {
   "cell_type": "code",
   "execution_count": 4,
   "metadata": {},
   "outputs": [
    {
     "data": {
      "text/html": [
       "<div>\n",
       "<style scoped>\n",
       "    .dataframe tbody tr th:only-of-type {\n",
       "        vertical-align: middle;\n",
       "    }\n",
       "\n",
       "    .dataframe tbody tr th {\n",
       "        vertical-align: top;\n",
       "    }\n",
       "\n",
       "    .dataframe thead th {\n",
       "        text-align: right;\n",
       "    }\n",
       "</style>\n",
       "<table border=\"1\" class=\"dataframe\">\n",
       "  <thead>\n",
       "    <tr style=\"text-align: right;\">\n",
       "      <th></th>\n",
       "      <th>open</th>\n",
       "      <th>high</th>\n",
       "      <th>low</th>\n",
       "      <th>close</th>\n",
       "      <th>day_of_wk</th>\n",
       "    </tr>\n",
       "    <tr>\n",
       "      <th>date</th>\n",
       "      <th></th>\n",
       "      <th></th>\n",
       "      <th></th>\n",
       "      <th></th>\n",
       "      <th></th>\n",
       "    </tr>\n",
       "  </thead>\n",
       "  <tbody>\n",
       "    <tr>\n",
       "      <th>2003-01-01</th>\n",
       "      <td>1.0504</td>\n",
       "      <td>1.0504</td>\n",
       "      <td>1.0468</td>\n",
       "      <td>1.0476</td>\n",
       "      <td>Wednesday</td>\n",
       "    </tr>\n",
       "    <tr>\n",
       "      <th>2003-01-02</th>\n",
       "      <td>1.0475</td>\n",
       "      <td>1.0488</td>\n",
       "      <td>1.0338</td>\n",
       "      <td>1.0384</td>\n",
       "      <td>Thursday</td>\n",
       "    </tr>\n",
       "    <tr>\n",
       "      <th>2003-01-03</th>\n",
       "      <td>1.0383</td>\n",
       "      <td>1.0437</td>\n",
       "      <td>1.0342</td>\n",
       "      <td>1.0423</td>\n",
       "      <td>Friday</td>\n",
       "    </tr>\n",
       "    <tr>\n",
       "      <th>2003-01-05</th>\n",
       "      <td>1.0420</td>\n",
       "      <td>1.0451</td>\n",
       "      <td>1.0418</td>\n",
       "      <td>1.0448</td>\n",
       "      <td>Sunday</td>\n",
       "    </tr>\n",
       "    <tr>\n",
       "      <th>2003-01-06</th>\n",
       "      <td>1.0447</td>\n",
       "      <td>1.0496</td>\n",
       "      <td>1.0425</td>\n",
       "      <td>1.0440</td>\n",
       "      <td>Monday</td>\n",
       "    </tr>\n",
       "    <tr>\n",
       "      <th>2003-01-07</th>\n",
       "      <td>1.0439</td>\n",
       "      <td>1.0453</td>\n",
       "      <td>1.0398</td>\n",
       "      <td>1.0421</td>\n",
       "      <td>Tuesday</td>\n",
       "    </tr>\n",
       "    <tr>\n",
       "      <th>2003-01-08</th>\n",
       "      <td>1.0422</td>\n",
       "      <td>1.0536</td>\n",
       "      <td>1.0364</td>\n",
       "      <td>1.0518</td>\n",
       "      <td>Wednesday</td>\n",
       "    </tr>\n",
       "    <tr>\n",
       "      <th>2003-01-09</th>\n",
       "      <td>1.0517</td>\n",
       "      <td>1.0542</td>\n",
       "      <td>1.0463</td>\n",
       "      <td>1.0494</td>\n",
       "      <td>Thursday</td>\n",
       "    </tr>\n",
       "    <tr>\n",
       "      <th>2003-01-10</th>\n",
       "      <td>1.0495</td>\n",
       "      <td>1.0587</td>\n",
       "      <td>1.0492</td>\n",
       "      <td>1.0571</td>\n",
       "      <td>Friday</td>\n",
       "    </tr>\n",
       "    <tr>\n",
       "      <th>2003-01-12</th>\n",
       "      <td>1.0581</td>\n",
       "      <td>1.0588</td>\n",
       "      <td>1.0567</td>\n",
       "      <td>1.0572</td>\n",
       "      <td>Sunday</td>\n",
       "    </tr>\n",
       "  </tbody>\n",
       "</table>\n",
       "</div>"
      ],
      "text/plain": [
       "              open    high     low   close  day_of_wk\n",
       "date                                                 \n",
       "2003-01-01  1.0504  1.0504  1.0468  1.0476  Wednesday\n",
       "2003-01-02  1.0475  1.0488  1.0338  1.0384   Thursday\n",
       "2003-01-03  1.0383  1.0437  1.0342  1.0423     Friday\n",
       "2003-01-05  1.0420  1.0451  1.0418  1.0448     Sunday\n",
       "2003-01-06  1.0447  1.0496  1.0425  1.0440     Monday\n",
       "2003-01-07  1.0439  1.0453  1.0398  1.0421    Tuesday\n",
       "2003-01-08  1.0422  1.0536  1.0364  1.0518  Wednesday\n",
       "2003-01-09  1.0517  1.0542  1.0463  1.0494   Thursday\n",
       "2003-01-10  1.0495  1.0587  1.0492  1.0571     Friday\n",
       "2003-01-12  1.0581  1.0588  1.0567  1.0572     Sunday"
      ]
     },
     "execution_count": 4,
     "metadata": {},
     "output_type": "execute_result"
    }
   ],
   "source": [
    "df_d1 = df_d1.dropna()\n",
    "df_d1.head(10)"
   ]
  },
  {
   "cell_type": "code",
   "execution_count": 5,
   "metadata": {},
   "outputs": [
    {
     "data": {
      "text/plain": [
       "(5307, 5)"
      ]
     },
     "execution_count": 5,
     "metadata": {},
     "output_type": "execute_result"
    }
   ],
   "source": [
    "df_d1.shape"
   ]
  },
  {
   "cell_type": "code",
   "execution_count": 6,
   "metadata": {},
   "outputs": [
    {
     "data": {
      "image/png": "[encoded data removed]",
      "text/plain": [
       "<Figure size 864x432 with 1 Axes>"
      ]
     },
     "metadata": {},
     "output_type": "display_data"
    }
   ],
   "source": [
    "plt.figure(figsize=(12,6))\n",
    "\n",
    "plt.plot(df_d1['close'], label='close')\n",
    "\n",
    "plt.xticks(fontsize=15);\n",
    "plt.yticks(fontsize=15);\n",
    "plt.xlabel(\"Date\", fontsize=20)\n",
    "plt.ylabel(\"Price\", fontsize=20)\n",
    "plt.title(label = 'EURUSD D1 Close', fontsize=20);\n",
    "#plt.legend(fontsize=15);"
   ]
  },
  {
   "cell_type": "markdown",
   "metadata": {},
   "source": [
    "### <font color=green>Stationarity Check</font>"
   ]
  },
  {
   "cell_type": "code",
   "execution_count": 7,
   "metadata": {},
   "outputs": [],
   "source": [
    "# funtion to inteprete augmented Dickey-Fuller test\n",
    "def interpret_dftest(dftest):\n",
    "    dfoutput = pd.Series(dftest[0:2], index=['Test Statistic','p-value'])\n",
    "    return dfoutput"
   ]
  },
  {
   "cell_type": "code",
   "execution_count": 8,
   "metadata": {},
   "outputs": [
    {
     "data": {
      "text/plain": [
       "Test Statistic   -2.278032\n",
       "p-value           0.179151\n",
       "dtype: float64"
      ]
     },
     "execution_count": 8,
     "metadata": {},
     "output_type": "execute_result"
    }
   ],
   "source": [
    "interpret_dftest(adfuller(df_d1['close']))"
   ]
  },
  {
   "cell_type": "markdown",
   "metadata": {},
   "source": [
    "<font color=green>p-value > 0.05. We cannot reject the hypothesis that close price is not stationary</font>"
   ]
  },
  {
   "cell_type": "code",
   "execution_count": 9,
   "metadata": {},
   "outputs": [
    {
     "name": "stdout",
     "output_type": "stream",
     "text": [
      "Checking difference of 1.\n",
      "p-value = 0.0.\n",
      "\n",
      "Differencing our time series by d=1 yields a stationary time series!\n"
     ]
    }
   ],
   "source": [
    "# loop to find the lowest difference value d to achieve stationarity\n",
    "\n",
    "# Iterate through all possible differences.\n",
    "for d in range(1, len(df_d1['close'])):\n",
    "    \n",
    "    # Print out a counter and the corresponding p-value.\n",
    "    print(f'Checking difference of {d}.')\n",
    "    print(f'p-value = {interpret_dftest(adfuller(df_d1[\"close\"].diff(d).dropna()))[\"p-value\"]}.')\n",
    "          \n",
    "    # If our data, differenced by d time periods, are stationary, print that out!\n",
    "    if interpret_dftest(adfuller(df_d1['close'].diff(d).dropna()))['p-value'] < 0.05:\n",
    "        print()\n",
    "        print(f'Differencing our time series by d={d} yields a stationary time series!')\n",
    "        break"
   ]
  },
  {
   "cell_type": "code",
   "execution_count": 10,
   "metadata": {},
   "outputs": [
    {
     "data": {
      "text/html": [
       "<div>\n",
       "<style scoped>\n",
       "    .dataframe tbody tr th:only-of-type {\n",
       "        vertical-align: middle;\n",
       "    }\n",
       "\n",
       "    .dataframe tbody tr th {\n",
       "        vertical-align: top;\n",
       "    }\n",
       "\n",
       "    .dataframe thead th {\n",
       "        text-align: right;\n",
       "    }\n",
       "</style>\n",
       "<table border=\"1\" class=\"dataframe\">\n",
       "  <thead>\n",
       "    <tr style=\"text-align: right;\">\n",
       "      <th></th>\n",
       "      <th>open</th>\n",
       "      <th>high</th>\n",
       "      <th>low</th>\n",
       "      <th>close</th>\n",
       "      <th>day_of_wk</th>\n",
       "      <th>diff_1</th>\n",
       "    </tr>\n",
       "    <tr>\n",
       "      <th>date</th>\n",
       "      <th></th>\n",
       "      <th></th>\n",
       "      <th></th>\n",
       "      <th></th>\n",
       "      <th></th>\n",
       "      <th></th>\n",
       "    </tr>\n",
       "  </thead>\n",
       "  <tbody>\n",
       "    <tr>\n",
       "      <th>2003-01-01</th>\n",
       "      <td>1.0504</td>\n",
       "      <td>1.0504</td>\n",
       "      <td>1.0468</td>\n",
       "      <td>1.0476</td>\n",
       "      <td>Wednesday</td>\n",
       "      <td>NaN</td>\n",
       "    </tr>\n",
       "    <tr>\n",
       "      <th>2003-01-02</th>\n",
       "      <td>1.0475</td>\n",
       "      <td>1.0488</td>\n",
       "      <td>1.0338</td>\n",
       "      <td>1.0384</td>\n",
       "      <td>Thursday</td>\n",
       "      <td>-0.0092</td>\n",
       "    </tr>\n",
       "    <tr>\n",
       "      <th>2003-01-03</th>\n",
       "      <td>1.0383</td>\n",
       "      <td>1.0437</td>\n",
       "      <td>1.0342</td>\n",
       "      <td>1.0423</td>\n",
       "      <td>Friday</td>\n",
       "      <td>0.0039</td>\n",
       "    </tr>\n",
       "    <tr>\n",
       "      <th>2003-01-05</th>\n",
       "      <td>1.0420</td>\n",
       "      <td>1.0451</td>\n",
       "      <td>1.0418</td>\n",
       "      <td>1.0448</td>\n",
       "      <td>Sunday</td>\n",
       "      <td>0.0025</td>\n",
       "    </tr>\n",
       "    <tr>\n",
       "      <th>2003-01-06</th>\n",
       "      <td>1.0447</td>\n",
       "      <td>1.0496</td>\n",
       "      <td>1.0425</td>\n",
       "      <td>1.0440</td>\n",
       "      <td>Monday</td>\n",
       "      <td>-0.0008</td>\n",
       "    </tr>\n",
       "  </tbody>\n",
       "</table>\n",
       "</div>"
      ],
      "text/plain": [
       "              open    high     low   close  day_of_wk  diff_1\n",
       "date                                                         \n",
       "2003-01-01  1.0504  1.0504  1.0468  1.0476  Wednesday     NaN\n",
       "2003-01-02  1.0475  1.0488  1.0338  1.0384   Thursday -0.0092\n",
       "2003-01-03  1.0383  1.0437  1.0342  1.0423     Friday  0.0039\n",
       "2003-01-05  1.0420  1.0451  1.0418  1.0448     Sunday  0.0025\n",
       "2003-01-06  1.0447  1.0496  1.0425  1.0440     Monday -0.0008"
      ]
     },
     "execution_count": 10,
     "metadata": {},
     "output_type": "execute_result"
    }
   ],
   "source": [
    "# create close price diff(1)\n",
    "df_d1['diff_1'] = df_d1['close'].diff(1)\n",
    "df_d1.head()"
   ]
  },
  {
   "cell_type": "code",
   "execution_count": 11,
   "metadata": {},
   "outputs": [
    {
     "data": {
      "image/png": "[encoded data removed]",
      "text/plain": [
       "<Figure size 864x432 with 1 Axes>"
      ]
     },
     "metadata": {},
     "output_type": "display_data"
    }
   ],
   "source": [
    "plt.figure(figsize=(12,6))\n",
    "\n",
    "plt.plot(df_d1['diff_1'], color = 'blue', label='close diff_1')\n",
    "\n",
    "plt.xticks(fontsize=15);\n",
    "plt.yticks(fontsize=15);\n",
    "plt.xlabel(\"Date\", fontsize=20)\n",
    "plt.ylabel(\"Price diff(1)\", fontsize=20)\n",
    "plt.title(label = 'EURUSD D1 Close Price diff(1)', fontsize=20);\n",
    "#plt.legend(fontsize=15);"
   ]
  },
  {
   "cell_type": "code",
   "execution_count": 12,
   "metadata": {},
   "outputs": [
    {
     "data": {
      "image/png": "[encoded data removed]",
      "text/plain": [
       "<Figure size 864x432 with 1 Axes>"
      ]
     },
     "metadata": {},
     "output_type": "display_data"
    }
   ],
   "source": [
    "# plot auto-regression\n",
    "fig, ax = plt.subplots(figsize=(12,6))\n",
    "\n",
    "# Generate plot.\n",
    "plot_acf(df_d1[\"close\"].diff(1).dropna(), lags=50, ax=ax);"
   ]
  },
  {
   "cell_type": "code",
   "execution_count": 13,
   "metadata": {},
   "outputs": [
    {
     "data": {
      "image/png": "[encoded data removed]",
      "text/plain": [
       "<Figure size 864x432 with 1 Axes>"
      ]
     },
     "metadata": {},
     "output_type": "display_data"
    }
   ],
   "source": [
    "# plot partial auto-regression\n",
    "fig, ax = plt.subplots(figsize=(12,6))\n",
    "\n",
    "# Generate plot.\n",
    "plot_pacf(df_d1[\"close\"].diff(1).dropna(), lags=50, ax=ax);"
   ]
  },
  {
   "cell_type": "markdown",
   "metadata": {},
   "source": [
    "###### <font color=red> Generally noisy data. Unlikely to fit a good time series model</font>"
   ]
  },
  {
   "cell_type": "markdown",
   "metadata": {},
   "source": [
    "### <font color=green> Train Test Split</font>"
   ]
  },
  {
   "cell_type": "code",
   "execution_count": 14,
   "metadata": {},
   "outputs": [
    {
     "data": {
      "text/html": [
       "<div>\n",
       "<style scoped>\n",
       "    .dataframe tbody tr th:only-of-type {\n",
       "        vertical-align: middle;\n",
       "    }\n",
       "\n",
       "    .dataframe tbody tr th {\n",
       "        vertical-align: top;\n",
       "    }\n",
       "\n",
       "    .dataframe thead th {\n",
       "        text-align: right;\n",
       "    }\n",
       "</style>\n",
       "<table border=\"1\" class=\"dataframe\">\n",
       "  <thead>\n",
       "    <tr style=\"text-align: right;\">\n",
       "      <th></th>\n",
       "      <th>diff_1</th>\n",
       "    </tr>\n",
       "    <tr>\n",
       "      <th>date</th>\n",
       "      <th></th>\n",
       "    </tr>\n",
       "  </thead>\n",
       "  <tbody>\n",
       "    <tr>\n",
       "      <th>2003-01-02</th>\n",
       "      <td>-0.0092</td>\n",
       "    </tr>\n",
       "    <tr>\n",
       "      <th>2003-01-03</th>\n",
       "      <td>0.0039</td>\n",
       "    </tr>\n",
       "    <tr>\n",
       "      <th>2003-01-05</th>\n",
       "      <td>0.0025</td>\n",
       "    </tr>\n",
       "    <tr>\n",
       "      <th>2003-01-06</th>\n",
       "      <td>-0.0008</td>\n",
       "    </tr>\n",
       "    <tr>\n",
       "      <th>2003-01-07</th>\n",
       "      <td>-0.0019</td>\n",
       "    </tr>\n",
       "  </tbody>\n",
       "</table>\n",
       "</div>"
      ],
      "text/plain": [
       "            diff_1\n",
       "date              \n",
       "2003-01-02 -0.0092\n",
       "2003-01-03  0.0039\n",
       "2003-01-05  0.0025\n",
       "2003-01-06 -0.0008\n",
       "2003-01-07 -0.0019"
      ]
     },
     "execution_count": 14,
     "metadata": {},
     "output_type": "execute_result"
    }
   ],
   "source": [
    "data = pd.DataFrame(df_d1['diff_1'].dropna())\n",
    "data.head()"
   ]
  },
  {
   "cell_type": "code",
   "execution_count": 15,
   "metadata": {},
   "outputs": [
    {
     "data": {
      "text/plain": [
       "(5306, 1)"
      ]
     },
     "execution_count": 15,
     "metadata": {},
     "output_type": "execute_result"
    }
   ],
   "source": [
    "data.shape"
   ]
  },
  {
   "cell_type": "code",
   "execution_count": 16,
   "metadata": {},
   "outputs": [
    {
     "data": {
      "text/plain": [
       "4244.8"
      ]
     },
     "execution_count": 16,
     "metadata": {},
     "output_type": "execute_result"
    }
   ],
   "source": [
    "# What index gives us our 80th percentile of rows?\n",
    "data.shape[0] * (4 / 5)"
   ]
  },
  {
   "cell_type": "code",
   "execution_count": 17,
   "metadata": {},
   "outputs": [],
   "source": [
    "# Set training data to be first 80% of rows.\n",
    "train = data.iloc[0:4244]\n",
    "# Set testing data to be last 20% of rows.\n",
    "test = data.iloc[4244:]"
   ]
  },
  {
   "cell_type": "markdown",
   "metadata": {},
   "source": [
    "### <font color=green>ARIMA</font>"
   ]
  },
  {
   "cell_type": "code",
   "execution_count": 18,
   "metadata": {
    "scrolled": false
   },
   "outputs": [
    {
     "name": "stderr",
     "output_type": "stream",
     "text": [
      "/Users/chuahb/opt/anaconda3/lib/python3.7/site-packages/statsmodels/tsa/base/tsa_model.py:218: ValueWarning: A date index has been provided, but it has no associated frequency information and so will be ignored when e.g. forecasting.\n",
      "  ' ignored when e.g. forecasting.', ValueWarning)\n",
      "/Users/chuahb/opt/anaconda3/lib/python3.7/site-packages/statsmodels/tsa/base/tsa_model.py:218: ValueWarning: A date index has been provided, but it has no associated frequency information and so will be ignored when e.g. forecasting.\n",
      "  ' ignored when e.g. forecasting.', ValueWarning)\n",
      "/Users/chuahb/opt/anaconda3/lib/python3.7/site-packages/statsmodels/tsa/base/tsa_model.py:218: ValueWarning: A date index has been provided, but it has no associated frequency information and so will be ignored when e.g. forecasting.\n",
      "  ' ignored when e.g. forecasting.', ValueWarning)\n",
      "/Users/chuahb/opt/anaconda3/lib/python3.7/site-packages/statsmodels/tsa/base/tsa_model.py:218: ValueWarning: A date index has been provided, but it has no associated frequency information and so will be ignored when e.g. forecasting.\n",
      "  ' ignored when e.g. forecasting.', ValueWarning)\n"
     ]
    },
    {
     "name": "stdout",
     "output_type": "stream",
     "text": [
      "The MSE for (p = 0, d = 0, q = 0) is 5.539403169299944e-05.\n",
      "The MSE for (p = 0, d = 0, q = 1) is 5.5353072227332984e-05.\n",
      "The MSE for (p = 0, d = 0, q = 2) is 5.534124238874464e-05.\n",
      "The MSE for (p = 0, d = 0, q = 3) is 5.5322152222221796e-05.\n"
     ]
    },
    {
     "name": "stderr",
     "output_type": "stream",
     "text": [
      "/Users/chuahb/opt/anaconda3/lib/python3.7/site-packages/statsmodels/tsa/base/tsa_model.py:218: ValueWarning: A date index has been provided, but it has no associated frequency information and so will be ignored when e.g. forecasting.\n",
      "  ' ignored when e.g. forecasting.', ValueWarning)\n",
      "/Users/chuahb/opt/anaconda3/lib/python3.7/site-packages/statsmodels/tsa/base/tsa_model.py:218: ValueWarning: A date index has been provided, but it has no associated frequency information and so will be ignored when e.g. forecasting.\n",
      "  ' ignored when e.g. forecasting.', ValueWarning)\n",
      "/Users/chuahb/opt/anaconda3/lib/python3.7/site-packages/statsmodels/tsa/base/tsa_model.py:218: ValueWarning: A date index has been provided, but it has no associated frequency information and so will be ignored when e.g. forecasting.\n",
      "  ' ignored when e.g. forecasting.', ValueWarning)\n",
      "/Users/chuahb/opt/anaconda3/lib/python3.7/site-packages/statsmodels/tsa/base/tsa_model.py:218: ValueWarning: A date index has been provided, but it has no associated frequency information and so will be ignored when e.g. forecasting.\n",
      "  ' ignored when e.g. forecasting.', ValueWarning)\n",
      "/Users/chuahb/opt/anaconda3/lib/python3.7/site-packages/statsmodels/tsa/base/tsa_model.py:218: ValueWarning: A date index has been provided, but it has no associated frequency information and so will be ignored when e.g. forecasting.\n",
      "  ' ignored when e.g. forecasting.', ValueWarning)\n",
      "/Users/chuahb/opt/anaconda3/lib/python3.7/site-packages/statsmodels/tsa/base/tsa_model.py:218: ValueWarning: A date index has been provided, but it has no associated frequency information and so will be ignored when e.g. forecasting.\n",
      "  ' ignored when e.g. forecasting.', ValueWarning)\n",
      "/Users/chuahb/opt/anaconda3/lib/python3.7/site-packages/statsmodels/tsa/base/tsa_model.py:218: ValueWarning: A date index has been provided, but it has no associated frequency information and so will be ignored when e.g. forecasting.\n",
      "  ' ignored when e.g. forecasting.', ValueWarning)\n",
      "/Users/chuahb/opt/anaconda3/lib/python3.7/site-packages/statsmodels/tsa/base/tsa_model.py:218: ValueWarning: A date index has been provided, but it has no associated frequency information and so will be ignored when e.g. forecasting.\n",
      "  ' ignored when e.g. forecasting.', ValueWarning)\n",
      "/Users/chuahb/opt/anaconda3/lib/python3.7/site-packages/statsmodels/tsa/base/tsa_model.py:218: ValueWarning: A date index has been provided, but it has no associated frequency information and so will be ignored when e.g. forecasting.\n",
      "  ' ignored when e.g. forecasting.', ValueWarning)\n",
      "/Users/chuahb/opt/anaconda3/lib/python3.7/site-packages/statsmodels/tsa/base/tsa_model.py:218: ValueWarning: A date index has been provided, but it has no associated frequency information and so will be ignored when e.g. forecasting.\n",
      "  ' ignored when e.g. forecasting.', ValueWarning)\n",
      "/Users/chuahb/opt/anaconda3/lib/python3.7/site-packages/statsmodels/tsa/base/tsa_model.py:218: ValueWarning: A date index has been provided, but it has no associated frequency information and so will be ignored when e.g. forecasting.\n",
      "  ' ignored when e.g. forecasting.', ValueWarning)\n",
      "/Users/chuahb/opt/anaconda3/lib/python3.7/site-packages/statsmodels/tsa/base/tsa_model.py:218: ValueWarning: A date index has been provided, but it has no associated frequency information and so will be ignored when e.g. forecasting.\n",
      "  ' ignored when e.g. forecasting.', ValueWarning)\n",
      "/Users/chuahb/opt/anaconda3/lib/python3.7/site-packages/statsmodels/tsa/base/tsa_model.py:218: ValueWarning: A date index has been provided, but it has no associated frequency information and so will be ignored when e.g. forecasting.\n",
      "  ' ignored when e.g. forecasting.', ValueWarning)\n",
      "/Users/chuahb/opt/anaconda3/lib/python3.7/site-packages/statsmodels/tsa/base/tsa_model.py:218: ValueWarning: A date index has been provided, but it has no associated frequency information and so will be ignored when e.g. forecasting.\n",
      "  ' ignored when e.g. forecasting.', ValueWarning)\n",
      "/Users/chuahb/opt/anaconda3/lib/python3.7/site-packages/statsmodels/tsa/base/tsa_model.py:218: ValueWarning: A date index has been provided, but it has no associated frequency information and so will be ignored when e.g. forecasting.\n",
      "  ' ignored when e.g. forecasting.', ValueWarning)\n",
      "/Users/chuahb/opt/anaconda3/lib/python3.7/site-packages/statsmodels/tsa/base/tsa_model.py:218: ValueWarning: A date index has been provided, but it has no associated frequency information and so will be ignored when e.g. forecasting.\n",
      "  ' ignored when e.g. forecasting.', ValueWarning)\n",
      "/Users/chuahb/opt/anaconda3/lib/python3.7/site-packages/statsmodels/tsa/base/tsa_model.py:218: ValueWarning: A date index has been provided, but it has no associated frequency information and so will be ignored when e.g. forecasting.\n",
      "  ' ignored when e.g. forecasting.', ValueWarning)\n",
      "/Users/chuahb/opt/anaconda3/lib/python3.7/site-packages/statsmodels/tsa/base/tsa_model.py:218: ValueWarning: A date index has been provided, but it has no associated frequency information and so will be ignored when e.g. forecasting.\n",
      "  ' ignored when e.g. forecasting.', ValueWarning)\n"
     ]
    },
    {
     "name": "stdout",
     "output_type": "stream",
     "text": [
      "The MSE for (p = 1, d = 0, q = 0) is 5.535432363558768e-05.\n",
      "The MSE for (p = 1, d = 0, q = 1) is 5.5347796119040934e-05.\n"
     ]
    },
    {
     "name": "stderr",
     "output_type": "stream",
     "text": [
      "/Users/chuahb/opt/anaconda3/lib/python3.7/site-packages/statsmodels/tsa/base/tsa_model.py:218: ValueWarning: A date index has been provided, but it has no associated frequency information and so will be ignored when e.g. forecasting.\n",
      "  ' ignored when e.g. forecasting.', ValueWarning)\n"
     ]
    },
    {
     "name": "stdout",
     "output_type": "stream",
     "text": [
      "The MSE for (p = 1, d = 0, q = 2) is 5.5326063346206236e-05.\n"
     ]
    },
    {
     "name": "stderr",
     "output_type": "stream",
     "text": [
      "/Users/chuahb/opt/anaconda3/lib/python3.7/site-packages/statsmodels/tsa/base/tsa_model.py:218: ValueWarning: A date index has been provided, but it has no associated frequency information and so will be ignored when e.g. forecasting.\n",
      "  ' ignored when e.g. forecasting.', ValueWarning)\n"
     ]
    },
    {
     "name": "stdout",
     "output_type": "stream",
     "text": [
      "The MSE for (p = 1, d = 0, q = 3) is 5.531730919524505e-05.\n"
     ]
    },
    {
     "name": "stderr",
     "output_type": "stream",
     "text": [
      "/Users/chuahb/opt/anaconda3/lib/python3.7/site-packages/statsmodels/tsa/base/tsa_model.py:218: ValueWarning: A date index has been provided, but it has no associated frequency information and so will be ignored when e.g. forecasting.\n",
      "  ' ignored when e.g. forecasting.', ValueWarning)\n",
      "/Users/chuahb/opt/anaconda3/lib/python3.7/site-packages/statsmodels/tsa/base/tsa_model.py:218: ValueWarning: A date index has been provided, but it has no associated frequency information and so will be ignored when e.g. forecasting.\n",
      "  ' ignored when e.g. forecasting.', ValueWarning)\n",
      "/Users/chuahb/opt/anaconda3/lib/python3.7/site-packages/statsmodels/tsa/base/tsa_model.py:218: ValueWarning: A date index has been provided, but it has no associated frequency information and so will be ignored when e.g. forecasting.\n",
      "  ' ignored when e.g. forecasting.', ValueWarning)\n",
      "/Users/chuahb/opt/anaconda3/lib/python3.7/site-packages/statsmodels/tsa/base/tsa_model.py:218: ValueWarning: A date index has been provided, but it has no associated frequency information and so will be ignored when e.g. forecasting.\n",
      "  ' ignored when e.g. forecasting.', ValueWarning)\n",
      "/Users/chuahb/opt/anaconda3/lib/python3.7/site-packages/statsmodels/tsa/base/tsa_model.py:218: ValueWarning: A date index has been provided, but it has no associated frequency information and so will be ignored when e.g. forecasting.\n",
      "  ' ignored when e.g. forecasting.', ValueWarning)\n",
      "/Users/chuahb/opt/anaconda3/lib/python3.7/site-packages/statsmodels/tsa/base/tsa_model.py:218: ValueWarning: A date index has been provided, but it has no associated frequency information and so will be ignored when e.g. forecasting.\n",
      "  ' ignored when e.g. forecasting.', ValueWarning)\n",
      "/Users/chuahb/opt/anaconda3/lib/python3.7/site-packages/statsmodels/tsa/base/tsa_model.py:218: ValueWarning: A date index has been provided, but it has no associated frequency information and so will be ignored when e.g. forecasting.\n",
      "  ' ignored when e.g. forecasting.', ValueWarning)\n",
      "/Users/chuahb/opt/anaconda3/lib/python3.7/site-packages/statsmodels/tsa/base/tsa_model.py:218: ValueWarning: A date index has been provided, but it has no associated frequency information and so will be ignored when e.g. forecasting.\n",
      "  ' ignored when e.g. forecasting.', ValueWarning)\n",
      "/Users/chuahb/opt/anaconda3/lib/python3.7/site-packages/statsmodels/tsa/base/tsa_model.py:218: ValueWarning: A date index has been provided, but it has no associated frequency information and so will be ignored when e.g. forecasting.\n",
      "  ' ignored when e.g. forecasting.', ValueWarning)\n",
      "/Users/chuahb/opt/anaconda3/lib/python3.7/site-packages/statsmodels/tsa/base/tsa_model.py:218: ValueWarning: A date index has been provided, but it has no associated frequency information and so will be ignored when e.g. forecasting.\n",
      "  ' ignored when e.g. forecasting.', ValueWarning)\n",
      "/Users/chuahb/opt/anaconda3/lib/python3.7/site-packages/statsmodels/tsa/base/tsa_model.py:218: ValueWarning: A date index has been provided, but it has no associated frequency information and so will be ignored when e.g. forecasting.\n",
      "  ' ignored when e.g. forecasting.', ValueWarning)\n",
      "/Users/chuahb/opt/anaconda3/lib/python3.7/site-packages/statsmodels/tsa/base/tsa_model.py:218: ValueWarning: A date index has been provided, but it has no associated frequency information and so will be ignored when e.g. forecasting.\n",
      "  ' ignored when e.g. forecasting.', ValueWarning)\n",
      "/Users/chuahb/opt/anaconda3/lib/python3.7/site-packages/statsmodels/tsa/base/tsa_model.py:218: ValueWarning: A date index has been provided, but it has no associated frequency information and so will be ignored when e.g. forecasting.\n",
      "  ' ignored when e.g. forecasting.', ValueWarning)\n",
      "/Users/chuahb/opt/anaconda3/lib/python3.7/site-packages/statsmodels/tsa/base/tsa_model.py:218: ValueWarning: A date index has been provided, but it has no associated frequency information and so will be ignored when e.g. forecasting.\n",
      "  ' ignored when e.g. forecasting.', ValueWarning)\n",
      "/Users/chuahb/opt/anaconda3/lib/python3.7/site-packages/statsmodels/tsa/base/tsa_model.py:218: ValueWarning: A date index has been provided, but it has no associated frequency information and so will be ignored when e.g. forecasting.\n",
      "  ' ignored when e.g. forecasting.', ValueWarning)\n",
      "/Users/chuahb/opt/anaconda3/lib/python3.7/site-packages/statsmodels/tsa/base/tsa_model.py:218: ValueWarning: A date index has been provided, but it has no associated frequency information and so will be ignored when e.g. forecasting.\n",
      "  ' ignored when e.g. forecasting.', ValueWarning)\n",
      "/Users/chuahb/opt/anaconda3/lib/python3.7/site-packages/statsmodels/tsa/base/tsa_model.py:218: ValueWarning: A date index has been provided, but it has no associated frequency information and so will be ignored when e.g. forecasting.\n",
      "  ' ignored when e.g. forecasting.', ValueWarning)\n",
      "/Users/chuahb/opt/anaconda3/lib/python3.7/site-packages/statsmodels/tsa/base/tsa_model.py:218: ValueWarning: A date index has been provided, but it has no associated frequency information and so will be ignored when e.g. forecasting.\n",
      "  ' ignored when e.g. forecasting.', ValueWarning)\n"
     ]
    },
    {
     "name": "stdout",
     "output_type": "stream",
     "text": [
      "The MSE for (p = 2, d = 0, q = 0) is 5.5339846208633465e-05.\n",
      "The MSE for (p = 2, d = 0, q = 1) is 5.532397257392455e-05.\n"
     ]
    },
    {
     "name": "stderr",
     "output_type": "stream",
     "text": [
      "/Users/chuahb/opt/anaconda3/lib/python3.7/site-packages/statsmodels/tsa/base/tsa_model.py:218: ValueWarning: A date index has been provided, but it has no associated frequency information and so will be ignored when e.g. forecasting.\n",
      "  ' ignored when e.g. forecasting.', ValueWarning)\n"
     ]
    },
    {
     "name": "stdout",
     "output_type": "stream",
     "text": [
      "The MSE for (p = 2, d = 0, q = 2) is 5.530628218084311e-05.\n"
     ]
    },
    {
     "name": "stderr",
     "output_type": "stream",
     "text": [
      "/Users/chuahb/opt/anaconda3/lib/python3.7/site-packages/statsmodels/tsa/base/tsa_model.py:218: ValueWarning: A date index has been provided, but it has no associated frequency information and so will be ignored when e.g. forecasting.\n",
      "  ' ignored when e.g. forecasting.', ValueWarning)\n"
     ]
    },
    {
     "name": "stdout",
     "output_type": "stream",
     "text": [
      "The MSE for (p = 2, d = 0, q = 3) is 5.516665403844978e-05.\n"
     ]
    },
    {
     "name": "stderr",
     "output_type": "stream",
     "text": [
      "/Users/chuahb/opt/anaconda3/lib/python3.7/site-packages/statsmodels/tsa/base/tsa_model.py:218: ValueWarning: A date index has been provided, but it has no associated frequency information and so will be ignored when e.g. forecasting.\n",
      "  ' ignored when e.g. forecasting.', ValueWarning)\n",
      "/Users/chuahb/opt/anaconda3/lib/python3.7/site-packages/statsmodels/tsa/base/tsa_model.py:218: ValueWarning: A date index has been provided, but it has no associated frequency information and so will be ignored when e.g. forecasting.\n",
      "  ' ignored when e.g. forecasting.', ValueWarning)\n",
      "/Users/chuahb/opt/anaconda3/lib/python3.7/site-packages/statsmodels/tsa/base/tsa_model.py:218: ValueWarning: A date index has been provided, but it has no associated frequency information and so will be ignored when e.g. forecasting.\n",
      "  ' ignored when e.g. forecasting.', ValueWarning)\n",
      "/Users/chuahb/opt/anaconda3/lib/python3.7/site-packages/statsmodels/tsa/base/tsa_model.py:218: ValueWarning: A date index has been provided, but it has no associated frequency information and so will be ignored when e.g. forecasting.\n",
      "  ' ignored when e.g. forecasting.', ValueWarning)\n",
      "/Users/chuahb/opt/anaconda3/lib/python3.7/site-packages/statsmodels/tsa/base/tsa_model.py:218: ValueWarning: A date index has been provided, but it has no associated frequency information and so will be ignored when e.g. forecasting.\n",
      "  ' ignored when e.g. forecasting.', ValueWarning)\n",
      "/Users/chuahb/opt/anaconda3/lib/python3.7/site-packages/statsmodels/tsa/base/tsa_model.py:218: ValueWarning: A date index has been provided, but it has no associated frequency information and so will be ignored when e.g. forecasting.\n",
      "  ' ignored when e.g. forecasting.', ValueWarning)\n",
      "/Users/chuahb/opt/anaconda3/lib/python3.7/site-packages/statsmodels/base/model.py:568: ConvergenceWarning: Maximum Likelihood optimization failed to converge. Check mle_retvals\n",
      "  \"Check mle_retvals\", ConvergenceWarning)\n",
      "/Users/chuahb/opt/anaconda3/lib/python3.7/site-packages/statsmodels/tsa/base/tsa_model.py:218: ValueWarning: A date index has been provided, but it has no associated frequency information and so will be ignored when e.g. forecasting.\n",
      "  ' ignored when e.g. forecasting.', ValueWarning)\n",
      "/Users/chuahb/opt/anaconda3/lib/python3.7/site-packages/statsmodels/tsa/base/tsa_model.py:218: ValueWarning: A date index has been provided, but it has no associated frequency information and so will be ignored when e.g. forecasting.\n",
      "  ' ignored when e.g. forecasting.', ValueWarning)\n",
      "/Users/chuahb/opt/anaconda3/lib/python3.7/site-packages/statsmodels/base/model.py:548: HessianInversionWarning: Inverting hessian failed, no bse or cov_params available\n",
      "  'available', HessianInversionWarning)\n",
      "/Users/chuahb/opt/anaconda3/lib/python3.7/site-packages/statsmodels/tsa/base/tsa_model.py:218: ValueWarning: A date index has been provided, but it has no associated frequency information and so will be ignored when e.g. forecasting.\n",
      "  ' ignored when e.g. forecasting.', ValueWarning)\n",
      "/Users/chuahb/opt/anaconda3/lib/python3.7/site-packages/statsmodels/tsa/base/tsa_model.py:218: ValueWarning: A date index has been provided, but it has no associated frequency information and so will be ignored when e.g. forecasting.\n",
      "  ' ignored when e.g. forecasting.', ValueWarning)\n",
      "/Users/chuahb/opt/anaconda3/lib/python3.7/site-packages/statsmodels/tsa/base/tsa_model.py:218: ValueWarning: A date index has been provided, but it has no associated frequency information and so will be ignored when e.g. forecasting.\n",
      "  ' ignored when e.g. forecasting.', ValueWarning)\n",
      "/Users/chuahb/opt/anaconda3/lib/python3.7/site-packages/statsmodels/tsa/base/tsa_model.py:218: ValueWarning: A date index has been provided, but it has no associated frequency information and so will be ignored when e.g. forecasting.\n",
      "  ' ignored when e.g. forecasting.', ValueWarning)\n",
      "/Users/chuahb/opt/anaconda3/lib/python3.7/site-packages/statsmodels/tsa/base/tsa_model.py:218: ValueWarning: A date index has been provided, but it has no associated frequency information and so will be ignored when e.g. forecasting.\n",
      "  ' ignored when e.g. forecasting.', ValueWarning)\n",
      "/Users/chuahb/opt/anaconda3/lib/python3.7/site-packages/statsmodels/tsa/base/tsa_model.py:218: ValueWarning: A date index has been provided, but it has no associated frequency information and so will be ignored when e.g. forecasting.\n",
      "  ' ignored when e.g. forecasting.', ValueWarning)\n",
      "/Users/chuahb/opt/anaconda3/lib/python3.7/site-packages/statsmodels/tsa/base/tsa_model.py:218: ValueWarning: A date index has been provided, but it has no associated frequency information and so will be ignored when e.g. forecasting.\n",
      "  ' ignored when e.g. forecasting.', ValueWarning)\n",
      "/Users/chuahb/opt/anaconda3/lib/python3.7/site-packages/statsmodels/tsa/base/tsa_model.py:218: ValueWarning: A date index has been provided, but it has no associated frequency information and so will be ignored when e.g. forecasting.\n",
      "  ' ignored when e.g. forecasting.', ValueWarning)\n",
      "/Users/chuahb/opt/anaconda3/lib/python3.7/site-packages/statsmodels/tsa/base/tsa_model.py:218: ValueWarning: A date index has been provided, but it has no associated frequency information and so will be ignored when e.g. forecasting.\n",
      "  ' ignored when e.g. forecasting.', ValueWarning)\n"
     ]
    },
    {
     "name": "stdout",
     "output_type": "stream",
     "text": [
      "The MSE for (p = 3, d = 0, q = 0) is 5.5319747237365364e-05.\n"
     ]
    },
    {
     "name": "stderr",
     "output_type": "stream",
     "text": [
      "/Users/chuahb/opt/anaconda3/lib/python3.7/site-packages/statsmodels/tsa/base/tsa_model.py:218: ValueWarning: A date index has been provided, but it has no associated frequency information and so will be ignored when e.g. forecasting.\n",
      "  ' ignored when e.g. forecasting.', ValueWarning)\n"
     ]
    },
    {
     "name": "stdout",
     "output_type": "stream",
     "text": [
      "The MSE for (p = 3, d = 0, q = 1) is 5.531523626008114e-05.\n"
     ]
    },
    {
     "name": "stderr",
     "output_type": "stream",
     "text": [
      "/Users/chuahb/opt/anaconda3/lib/python3.7/site-packages/statsmodels/tsa/base/tsa_model.py:218: ValueWarning: A date index has been provided, but it has no associated frequency information and so will be ignored when e.g. forecasting.\n",
      "  ' ignored when e.g. forecasting.', ValueWarning)\n"
     ]
    },
    {
     "name": "stdout",
     "output_type": "stream",
     "text": [
      "The MSE for (p = 3, d = 0, q = 2) is 5.516675927686799e-05.\n"
     ]
    },
    {
     "name": "stderr",
     "output_type": "stream",
     "text": [
      "/Users/chuahb/opt/anaconda3/lib/python3.7/site-packages/statsmodels/tsa/base/tsa_model.py:218: ValueWarning: A date index has been provided, but it has no associated frequency information and so will be ignored when e.g. forecasting.\n",
      "  ' ignored when e.g. forecasting.', ValueWarning)\n",
      "/Users/chuahb/opt/anaconda3/lib/python3.7/site-packages/statsmodels/tsa/tsatools.py:689: RuntimeWarning: overflow encountered in exp\n",
      "  newparams = ((1-np.exp(-params))/(1+np.exp(-params))).copy()\n",
      "/Users/chuahb/opt/anaconda3/lib/python3.7/site-packages/statsmodels/tsa/tsatools.py:689: RuntimeWarning: invalid value encountered in true_divide\n",
      "  newparams = ((1-np.exp(-params))/(1+np.exp(-params))).copy()\n",
      "/Users/chuahb/opt/anaconda3/lib/python3.7/site-packages/statsmodels/tsa/tsatools.py:690: RuntimeWarning: overflow encountered in exp\n",
      "  tmp = ((1-np.exp(-params))/(1+np.exp(-params))).copy()\n",
      "/Users/chuahb/opt/anaconda3/lib/python3.7/site-packages/statsmodels/tsa/tsatools.py:690: RuntimeWarning: invalid value encountered in true_divide\n",
      "  tmp = ((1-np.exp(-params))/(1+np.exp(-params))).copy()\n"
     ]
    },
    {
     "name": "stdout",
     "output_type": "stream",
     "text": [
      "The MSE for (p = 3, d = 0, q = 3) is 5.528898476705904e-05.\n"
     ]
    },
    {
     "name": "stderr",
     "output_type": "stream",
     "text": [
      "/Users/chuahb/opt/anaconda3/lib/python3.7/site-packages/statsmodels/tsa/base/tsa_model.py:218: ValueWarning: A date index has been provided, but it has no associated frequency information and so will be ignored when e.g. forecasting.\n",
      "  ' ignored when e.g. forecasting.', ValueWarning)\n",
      "/Users/chuahb/opt/anaconda3/lib/python3.7/site-packages/statsmodels/tsa/base/tsa_model.py:218: ValueWarning: A date index has been provided, but it has no associated frequency information and so will be ignored when e.g. forecasting.\n",
      "  ' ignored when e.g. forecasting.', ValueWarning)\n",
      "/Users/chuahb/opt/anaconda3/lib/python3.7/site-packages/statsmodels/tsa/base/tsa_model.py:218: ValueWarning: A date index has been provided, but it has no associated frequency information and so will be ignored when e.g. forecasting.\n",
      "  ' ignored when e.g. forecasting.', ValueWarning)\n",
      "/Users/chuahb/opt/anaconda3/lib/python3.7/site-packages/statsmodels/tsa/base/tsa_model.py:218: ValueWarning: A date index has been provided, but it has no associated frequency information and so will be ignored when e.g. forecasting.\n",
      "  ' ignored when e.g. forecasting.', ValueWarning)\n",
      "/Users/chuahb/opt/anaconda3/lib/python3.7/site-packages/statsmodels/tsa/base/tsa_model.py:218: ValueWarning: A date index has been provided, but it has no associated frequency information and so will be ignored when e.g. forecasting.\n",
      "  ' ignored when e.g. forecasting.', ValueWarning)\n",
      "/Users/chuahb/opt/anaconda3/lib/python3.7/site-packages/statsmodels/tsa/base/tsa_model.py:218: ValueWarning: A date index has been provided, but it has no associated frequency information and so will be ignored when e.g. forecasting.\n",
      "  ' ignored when e.g. forecasting.', ValueWarning)\n",
      "/Users/chuahb/opt/anaconda3/lib/python3.7/site-packages/statsmodels/base/model.py:548: HessianInversionWarning: Inverting hessian failed, no bse or cov_params available\n",
      "  'available', HessianInversionWarning)\n",
      "/Users/chuahb/opt/anaconda3/lib/python3.7/site-packages/statsmodels/base/model.py:568: ConvergenceWarning: Maximum Likelihood optimization failed to converge. Check mle_retvals\n",
      "  \"Check mle_retvals\", ConvergenceWarning)\n",
      "/Users/chuahb/opt/anaconda3/lib/python3.7/site-packages/statsmodels/tsa/base/tsa_model.py:218: ValueWarning: A date index has been provided, but it has no associated frequency information and so will be ignored when e.g. forecasting.\n",
      "  ' ignored when e.g. forecasting.', ValueWarning)\n",
      "/Users/chuahb/opt/anaconda3/lib/python3.7/site-packages/statsmodels/tsa/base/tsa_model.py:218: ValueWarning: A date index has been provided, but it has no associated frequency information and so will be ignored when e.g. forecasting.\n",
      "  ' ignored when e.g. forecasting.', ValueWarning)\n",
      "/Users/chuahb/opt/anaconda3/lib/python3.7/site-packages/statsmodels/base/model.py:548: HessianInversionWarning: Inverting hessian failed, no bse or cov_params available\n",
      "  'available', HessianInversionWarning)\n",
      "/Users/chuahb/opt/anaconda3/lib/python3.7/site-packages/statsmodels/tsa/base/tsa_model.py:218: ValueWarning: A date index has been provided, but it has no associated frequency information and so will be ignored when e.g. forecasting.\n",
      "  ' ignored when e.g. forecasting.', ValueWarning)\n",
      "/Users/chuahb/opt/anaconda3/lib/python3.7/site-packages/statsmodels/tsa/base/tsa_model.py:218: ValueWarning: A date index has been provided, but it has no associated frequency information and so will be ignored when e.g. forecasting.\n",
      "  ' ignored when e.g. forecasting.', ValueWarning)\n",
      "/Users/chuahb/opt/anaconda3/lib/python3.7/site-packages/statsmodels/tsa/base/tsa_model.py:218: ValueWarning: A date index has been provided, but it has no associated frequency information and so will be ignored when e.g. forecasting.\n",
      "  ' ignored when e.g. forecasting.', ValueWarning)\n",
      "/Users/chuahb/opt/anaconda3/lib/python3.7/site-packages/statsmodels/tsa/base/tsa_model.py:218: ValueWarning: A date index has been provided, but it has no associated frequency information and so will be ignored when e.g. forecasting.\n",
      "  ' ignored when e.g. forecasting.', ValueWarning)\n",
      "/Users/chuahb/opt/anaconda3/lib/python3.7/site-packages/statsmodels/tsa/base/tsa_model.py:218: ValueWarning: A date index has been provided, but it has no associated frequency information and so will be ignored when e.g. forecasting.\n",
      "  ' ignored when e.g. forecasting.', ValueWarning)\n",
      "/Users/chuahb/opt/anaconda3/lib/python3.7/site-packages/statsmodels/tsa/base/tsa_model.py:218: ValueWarning: A date index has been provided, but it has no associated frequency information and so will be ignored when e.g. forecasting.\n",
      "  ' ignored when e.g. forecasting.', ValueWarning)\n",
      "/Users/chuahb/opt/anaconda3/lib/python3.7/site-packages/statsmodels/tsa/base/tsa_model.py:218: ValueWarning: A date index has been provided, but it has no associated frequency information and so will be ignored when e.g. forecasting.\n",
      "  ' ignored when e.g. forecasting.', ValueWarning)\n",
      "/Users/chuahb/opt/anaconda3/lib/python3.7/site-packages/statsmodels/tsa/base/tsa_model.py:218: ValueWarning: A date index has been provided, but it has no associated frequency information and so will be ignored when e.g. forecasting.\n",
      "  ' ignored when e.g. forecasting.', ValueWarning)\n"
     ]
    },
    {
     "name": "stdout",
     "output_type": "stream",
     "text": [
      "\n",
      "Our model that minimizes MSE on the training data is the ARIMA (2,0,3).\n",
      "This model has an MSE of 5.516665403844978e-05.\n",
      "CPU times: user 1min 10s, sys: 6.85 s, total: 1min 17s\n",
      "Wall time: 45.3 s\n"
     ]
    }
   ],
   "source": [
    "%%time\n",
    "# Starting MSE and (P, D, Q).\n",
    "mse = 99 * (10 ** 50)\n",
    "final_P = 0\n",
    "final_D = 0\n",
    "final_Q = 0\n",
    "\n",
    "for p in range(4):\n",
    "    for d in range(4):\n",
    "        for q in range(4):\n",
    "            try:\n",
    "                arima = ARIMA(endog = train['diff_1'], # Y variable\n",
    "                              order = (p, d, q)) # (p, d, q)\n",
    "                model = arima.fit()\n",
    "                preds = model.predict()\n",
    "                print(f'The MSE for (p = {p}, d = {d}, q = {q}) is {mean_squared_error(train[\"diff_1\"], preds)}.')\n",
    "\n",
    "                # Save for final report.\n",
    "                if mse > mean_squared_error(train['diff_1'], preds):\n",
    "                    mse = mean_squared_error(train['diff_1'], preds)\n",
    "                    final_P = p\n",
    "                    final_D = d\n",
    "                    final_Q = q\n",
    "                \n",
    "            except:\n",
    "                pass\n",
    "\n",
    "print()            \n",
    "print(f'Our model that minimizes MSE on the training data is the ARIMA ({final_P},{final_D},{final_Q}).')\n",
    "print(f'This model has an MSE of {mse}.')"
   ]
  },
  {
   "cell_type": "code",
   "execution_count": 19,
   "metadata": {},
   "outputs": [
    {
     "name": "stderr",
     "output_type": "stream",
     "text": [
      "/Users/chuahb/opt/anaconda3/lib/python3.7/site-packages/statsmodels/tsa/base/tsa_model.py:218: ValueWarning: A date index has been provided, but it has no associated frequency information and so will be ignored when e.g. forecasting.\n",
      "  ' ignored when e.g. forecasting.', ValueWarning)\n",
      "/Users/chuahb/opt/anaconda3/lib/python3.7/site-packages/statsmodels/tsa/base/tsa_model.py:583: ValueWarning: No supported index is available. Prediction results will be given with an integer index beginning at `start`.\n",
      "  ValueWarning)\n"
     ]
    }
   ],
   "source": [
    "model = ARIMA(endog = train['diff_1'],\n",
    "              order = (2,0,3)) \n",
    "\n",
    "arima_2_0_3 = model.fit()\n",
    "preds_train_203 = arima_2_0_3.predict()\n",
    "preds_test_203 = arima_2_0_3.predict(start=4244, end=5305)"
   ]
  },
  {
   "cell_type": "code",
   "execution_count": 20,
   "metadata": {},
   "outputs": [
    {
     "data": {
      "text/plain": [
       "5.516665403844978e-05"
      ]
     },
     "execution_count": 20,
     "metadata": {},
     "output_type": "execute_result"
    }
   ],
   "source": [
    "mean_squared_error(train['diff_1'], preds_train_203)"
   ]
  },
  {
   "cell_type": "code",
   "execution_count": 21,
   "metadata": {},
   "outputs": [
    {
     "data": {
      "text/plain": [
       "2.1165933337808842e-05"
      ]
     },
     "execution_count": 21,
     "metadata": {},
     "output_type": "execute_result"
    }
   ],
   "source": [
    "mean_squared_error(test['diff_1'], preds_test_203)"
   ]
  },
  {
   "cell_type": "code",
   "execution_count": 22,
   "metadata": {
    "scrolled": true
   },
   "outputs": [
    {
     "data": {
      "image/png": "[encoded data removed]",
      "text/plain": [
       "<Figure size 864x432 with 1 Axes>"
      ]
     },
     "metadata": {},
     "output_type": "display_data"
    }
   ],
   "source": [
    "# Plot data.\n",
    "plt.figure(figsize=(12,6))\n",
    "plt.plot(train['diff_1'], label='train')\n",
    "plt.plot(preds_train_203, label='train_pred')\n",
    "plt.plot(test['diff_1'], label='test')\n",
    "plt.plot(test.index, preds_test_203, label='test_pred')\n",
    "\n",
    "plt.xticks(fontsize=15);\n",
    "plt.yticks(fontsize=15);\n",
    "plt.xlabel(\"Date\", fontsize=20)\n",
    "plt.ylabel(\"Price diff(1)\", fontsize=20)\n",
    "plt.title(label = 'EURUSD D1(diff_1) with ARIMA(2,0,3) Predictions', fontsize=18)\n",
    "plt.legend(fontsize=15);"
   ]
  },
  {
   "cell_type": "markdown",
   "metadata": {},
   "source": [
    "###### <font color=red> Generally noisy data. Model is not meaningful</font>"
   ]
  },
  {
   "cell_type": "markdown",
   "metadata": {},
   "source": [
    "# <font color=green>H1 Timeframe</font>"
   ]
  },
  {
   "cell_type": "code",
   "execution_count": 23,
   "metadata": {},
   "outputs": [
    {
     "data": {
      "text/html": [
       "<div>\n",
       "<style scoped>\n",
       "    .dataframe tbody tr th:only-of-type {\n",
       "        vertical-align: middle;\n",
       "    }\n",
       "\n",
       "    .dataframe tbody tr th {\n",
       "        vertical-align: top;\n",
       "    }\n",
       "\n",
       "    .dataframe thead th {\n",
       "        text-align: right;\n",
       "    }\n",
       "</style>\n",
       "<table border=\"1\" class=\"dataframe\">\n",
       "  <thead>\n",
       "    <tr style=\"text-align: right;\">\n",
       "      <th></th>\n",
       "      <th>open</th>\n",
       "      <th>high</th>\n",
       "      <th>low</th>\n",
       "      <th>close</th>\n",
       "      <th>day_of_wk</th>\n",
       "    </tr>\n",
       "    <tr>\n",
       "      <th>date</th>\n",
       "      <th></th>\n",
       "      <th></th>\n",
       "      <th></th>\n",
       "      <th></th>\n",
       "      <th></th>\n",
       "    </tr>\n",
       "  </thead>\n",
       "  <tbody>\n",
       "    <tr>\n",
       "      <th>2003-01-01 19:00:00</th>\n",
       "      <td>1.0504</td>\n",
       "      <td>1.0504</td>\n",
       "      <td>1.0476</td>\n",
       "      <td>1.0485</td>\n",
       "      <td>Wednesday</td>\n",
       "    </tr>\n",
       "    <tr>\n",
       "      <th>2003-01-01 20:00:00</th>\n",
       "      <td>1.0487</td>\n",
       "      <td>1.0498</td>\n",
       "      <td>1.0485</td>\n",
       "      <td>1.0487</td>\n",
       "      <td>Wednesday</td>\n",
       "    </tr>\n",
       "    <tr>\n",
       "      <th>2003-01-01 21:00:00</th>\n",
       "      <td>1.0488</td>\n",
       "      <td>1.0489</td>\n",
       "      <td>1.0477</td>\n",
       "      <td>1.0477</td>\n",
       "      <td>Wednesday</td>\n",
       "    </tr>\n",
       "    <tr>\n",
       "      <th>2003-01-01 22:00:00</th>\n",
       "      <td>1.0478</td>\n",
       "      <td>1.0483</td>\n",
       "      <td>1.0468</td>\n",
       "      <td>1.0470</td>\n",
       "      <td>Wednesday</td>\n",
       "    </tr>\n",
       "    <tr>\n",
       "      <th>2003-01-01 23:00:00</th>\n",
       "      <td>1.0469</td>\n",
       "      <td>1.0477</td>\n",
       "      <td>1.0469</td>\n",
       "      <td>1.0476</td>\n",
       "      <td>Wednesday</td>\n",
       "    </tr>\n",
       "    <tr>\n",
       "      <th>2003-01-02 00:00:00</th>\n",
       "      <td>1.0475</td>\n",
       "      <td>1.0476</td>\n",
       "      <td>1.0470</td>\n",
       "      <td>1.0475</td>\n",
       "      <td>Thursday</td>\n",
       "    </tr>\n",
       "    <tr>\n",
       "      <th>2003-01-02 01:00:00</th>\n",
       "      <td>1.0474</td>\n",
       "      <td>1.0478</td>\n",
       "      <td>1.0470</td>\n",
       "      <td>1.0474</td>\n",
       "      <td>Thursday</td>\n",
       "    </tr>\n",
       "    <tr>\n",
       "      <th>2003-01-02 02:00:00</th>\n",
       "      <td>1.0475</td>\n",
       "      <td>1.0488</td>\n",
       "      <td>1.0433</td>\n",
       "      <td>1.0436</td>\n",
       "      <td>Thursday</td>\n",
       "    </tr>\n",
       "    <tr>\n",
       "      <th>2003-01-02 03:00:00</th>\n",
       "      <td>1.0437</td>\n",
       "      <td>1.0464</td>\n",
       "      <td>1.0434</td>\n",
       "      <td>1.0460</td>\n",
       "      <td>Thursday</td>\n",
       "    </tr>\n",
       "    <tr>\n",
       "      <th>2003-01-02 04:00:00</th>\n",
       "      <td>1.0459</td>\n",
       "      <td>1.0485</td>\n",
       "      <td>1.0457</td>\n",
       "      <td>1.0475</td>\n",
       "      <td>Thursday</td>\n",
       "    </tr>\n",
       "    <tr>\n",
       "      <th>2003-01-02 05:00:00</th>\n",
       "      <td>1.0474</td>\n",
       "      <td>1.0485</td>\n",
       "      <td>1.0473</td>\n",
       "      <td>1.0480</td>\n",
       "      <td>Thursday</td>\n",
       "    </tr>\n",
       "    <tr>\n",
       "      <th>2003-01-02 06:00:00</th>\n",
       "      <td>1.0481</td>\n",
       "      <td>1.0481</td>\n",
       "      <td>1.0468</td>\n",
       "      <td>1.0469</td>\n",
       "      <td>Thursday</td>\n",
       "    </tr>\n",
       "    <tr>\n",
       "      <th>2003-01-02 07:00:00</th>\n",
       "      <td>1.0468</td>\n",
       "      <td>1.0474</td>\n",
       "      <td>1.0449</td>\n",
       "      <td>1.0449</td>\n",
       "      <td>Thursday</td>\n",
       "    </tr>\n",
       "    <tr>\n",
       "      <th>2003-01-02 08:00:00</th>\n",
       "      <td>1.0448</td>\n",
       "      <td>1.0469</td>\n",
       "      <td>1.0445</td>\n",
       "      <td>1.0466</td>\n",
       "      <td>Thursday</td>\n",
       "    </tr>\n",
       "    <tr>\n",
       "      <th>2003-01-02 09:00:00</th>\n",
       "      <td>1.0465</td>\n",
       "      <td>1.0470</td>\n",
       "      <td>1.0454</td>\n",
       "      <td>1.0462</td>\n",
       "      <td>Thursday</td>\n",
       "    </tr>\n",
       "    <tr>\n",
       "      <th>2003-01-02 10:00:00</th>\n",
       "      <td>1.0461</td>\n",
       "      <td>1.0461</td>\n",
       "      <td>1.0366</td>\n",
       "      <td>1.0375</td>\n",
       "      <td>Thursday</td>\n",
       "    </tr>\n",
       "    <tr>\n",
       "      <th>2003-01-02 11:00:00</th>\n",
       "      <td>1.0374</td>\n",
       "      <td>1.0385</td>\n",
       "      <td>1.0364</td>\n",
       "      <td>1.0370</td>\n",
       "      <td>Thursday</td>\n",
       "    </tr>\n",
       "    <tr>\n",
       "      <th>2003-01-02 12:00:00</th>\n",
       "      <td>1.0369</td>\n",
       "      <td>1.0369</td>\n",
       "      <td>1.0338</td>\n",
       "      <td>1.0352</td>\n",
       "      <td>Thursday</td>\n",
       "    </tr>\n",
       "    <tr>\n",
       "      <th>2003-01-02 13:00:00</th>\n",
       "      <td>1.0353</td>\n",
       "      <td>1.0367</td>\n",
       "      <td>1.0349</td>\n",
       "      <td>1.0354</td>\n",
       "      <td>Thursday</td>\n",
       "    </tr>\n",
       "    <tr>\n",
       "      <th>2003-01-02 14:00:00</th>\n",
       "      <td>1.0353</td>\n",
       "      <td>1.0363</td>\n",
       "      <td>1.0352</td>\n",
       "      <td>1.0361</td>\n",
       "      <td>Thursday</td>\n",
       "    </tr>\n",
       "    <tr>\n",
       "      <th>2003-01-02 15:00:00</th>\n",
       "      <td>1.0362</td>\n",
       "      <td>1.0366</td>\n",
       "      <td>1.0360</td>\n",
       "      <td>1.0363</td>\n",
       "      <td>Thursday</td>\n",
       "    </tr>\n",
       "    <tr>\n",
       "      <th>2003-01-02 16:00:00</th>\n",
       "      <td>1.0362</td>\n",
       "      <td>1.0365</td>\n",
       "      <td>1.0359</td>\n",
       "      <td>1.0360</td>\n",
       "      <td>Thursday</td>\n",
       "    </tr>\n",
       "    <tr>\n",
       "      <th>2003-01-02 17:00:00</th>\n",
       "      <td>1.0357</td>\n",
       "      <td>1.0367</td>\n",
       "      <td>1.0357</td>\n",
       "      <td>1.0364</td>\n",
       "      <td>Thursday</td>\n",
       "    </tr>\n",
       "    <tr>\n",
       "      <th>2003-01-02 18:00:00</th>\n",
       "      <td>1.0365</td>\n",
       "      <td>1.0369</td>\n",
       "      <td>1.0361</td>\n",
       "      <td>1.0361</td>\n",
       "      <td>Thursday</td>\n",
       "    </tr>\n",
       "    <tr>\n",
       "      <th>2003-01-02 19:00:00</th>\n",
       "      <td>1.0360</td>\n",
       "      <td>1.0378</td>\n",
       "      <td>1.0355</td>\n",
       "      <td>1.0375</td>\n",
       "      <td>Thursday</td>\n",
       "    </tr>\n",
       "    <tr>\n",
       "      <th>2003-01-02 20:00:00</th>\n",
       "      <td>1.0374</td>\n",
       "      <td>1.0380</td>\n",
       "      <td>1.0373</td>\n",
       "      <td>1.0378</td>\n",
       "      <td>Thursday</td>\n",
       "    </tr>\n",
       "    <tr>\n",
       "      <th>2003-01-02 21:00:00</th>\n",
       "      <td>1.0377</td>\n",
       "      <td>1.0378</td>\n",
       "      <td>1.0374</td>\n",
       "      <td>1.0375</td>\n",
       "      <td>Thursday</td>\n",
       "    </tr>\n",
       "    <tr>\n",
       "      <th>2003-01-02 22:00:00</th>\n",
       "      <td>1.0374</td>\n",
       "      <td>1.0381</td>\n",
       "      <td>1.0371</td>\n",
       "      <td>1.0377</td>\n",
       "      <td>Thursday</td>\n",
       "    </tr>\n",
       "    <tr>\n",
       "      <th>2003-01-02 23:00:00</th>\n",
       "      <td>1.0378</td>\n",
       "      <td>1.0384</td>\n",
       "      <td>1.0378</td>\n",
       "      <td>1.0384</td>\n",
       "      <td>Thursday</td>\n",
       "    </tr>\n",
       "    <tr>\n",
       "      <th>2003-01-03 00:00:00</th>\n",
       "      <td>1.0383</td>\n",
       "      <td>1.0384</td>\n",
       "      <td>1.0364</td>\n",
       "      <td>1.0370</td>\n",
       "      <td>Friday</td>\n",
       "    </tr>\n",
       "    <tr>\n",
       "      <th>2003-01-03 01:00:00</th>\n",
       "      <td>1.0369</td>\n",
       "      <td>1.0370</td>\n",
       "      <td>1.0360</td>\n",
       "      <td>1.0368</td>\n",
       "      <td>Friday</td>\n",
       "    </tr>\n",
       "    <tr>\n",
       "      <th>2003-01-03 02:00:00</th>\n",
       "      <td>1.0367</td>\n",
       "      <td>1.0380</td>\n",
       "      <td>1.0360</td>\n",
       "      <td>1.0363</td>\n",
       "      <td>Friday</td>\n",
       "    </tr>\n",
       "    <tr>\n",
       "      <th>2003-01-03 03:00:00</th>\n",
       "      <td>1.0362</td>\n",
       "      <td>1.0371</td>\n",
       "      <td>1.0344</td>\n",
       "      <td>1.0345</td>\n",
       "      <td>Friday</td>\n",
       "    </tr>\n",
       "    <tr>\n",
       "      <th>2003-01-03 04:00:00</th>\n",
       "      <td>1.0344</td>\n",
       "      <td>1.0361</td>\n",
       "      <td>1.0342</td>\n",
       "      <td>1.0356</td>\n",
       "      <td>Friday</td>\n",
       "    </tr>\n",
       "    <tr>\n",
       "      <th>2003-01-03 05:00:00</th>\n",
       "      <td>1.0356</td>\n",
       "      <td>1.0396</td>\n",
       "      <td>1.0356</td>\n",
       "      <td>1.0393</td>\n",
       "      <td>Friday</td>\n",
       "    </tr>\n",
       "    <tr>\n",
       "      <th>2003-01-03 06:00:00</th>\n",
       "      <td>1.0394</td>\n",
       "      <td>1.0396</td>\n",
       "      <td>1.0373</td>\n",
       "      <td>1.0376</td>\n",
       "      <td>Friday</td>\n",
       "    </tr>\n",
       "    <tr>\n",
       "      <th>2003-01-03 07:00:00</th>\n",
       "      <td>1.0375</td>\n",
       "      <td>1.0377</td>\n",
       "      <td>1.0367</td>\n",
       "      <td>1.0371</td>\n",
       "      <td>Friday</td>\n",
       "    </tr>\n",
       "    <tr>\n",
       "      <th>2003-01-03 08:00:00</th>\n",
       "      <td>1.0371</td>\n",
       "      <td>1.0405</td>\n",
       "      <td>1.0370</td>\n",
       "      <td>1.0396</td>\n",
       "      <td>Friday</td>\n",
       "    </tr>\n",
       "    <tr>\n",
       "      <th>2003-01-03 09:00:00</th>\n",
       "      <td>1.0395</td>\n",
       "      <td>1.0407</td>\n",
       "      <td>1.0389</td>\n",
       "      <td>1.0399</td>\n",
       "      <td>Friday</td>\n",
       "    </tr>\n",
       "    <tr>\n",
       "      <th>2003-01-03 10:00:00</th>\n",
       "      <td>1.0398</td>\n",
       "      <td>1.0427</td>\n",
       "      <td>1.0382</td>\n",
       "      <td>1.0419</td>\n",
       "      <td>Friday</td>\n",
       "    </tr>\n",
       "    <tr>\n",
       "      <th>2003-01-03 11:00:00</th>\n",
       "      <td>1.0418</td>\n",
       "      <td>1.0427</td>\n",
       "      <td>1.0415</td>\n",
       "      <td>1.0420</td>\n",
       "      <td>Friday</td>\n",
       "    </tr>\n",
       "    <tr>\n",
       "      <th>2003-01-03 12:00:00</th>\n",
       "      <td>1.0419</td>\n",
       "      <td>1.0437</td>\n",
       "      <td>1.0396</td>\n",
       "      <td>1.0415</td>\n",
       "      <td>Friday</td>\n",
       "    </tr>\n",
       "    <tr>\n",
       "      <th>2003-01-03 13:00:00</th>\n",
       "      <td>1.0416</td>\n",
       "      <td>1.0423</td>\n",
       "      <td>1.0412</td>\n",
       "      <td>1.0417</td>\n",
       "      <td>Friday</td>\n",
       "    </tr>\n",
       "    <tr>\n",
       "      <th>2003-01-03 14:00:00</th>\n",
       "      <td>1.0418</td>\n",
       "      <td>1.0427</td>\n",
       "      <td>1.0415</td>\n",
       "      <td>1.0415</td>\n",
       "      <td>Friday</td>\n",
       "    </tr>\n",
       "    <tr>\n",
       "      <th>2003-01-03 15:00:00</th>\n",
       "      <td>1.0417</td>\n",
       "      <td>1.0426</td>\n",
       "      <td>1.0416</td>\n",
       "      <td>1.0416</td>\n",
       "      <td>Friday</td>\n",
       "    </tr>\n",
       "    <tr>\n",
       "      <th>2003-01-03 16:00:00</th>\n",
       "      <td>1.0417</td>\n",
       "      <td>1.0426</td>\n",
       "      <td>1.0417</td>\n",
       "      <td>1.0423</td>\n",
       "      <td>Friday</td>\n",
       "    </tr>\n",
       "    <tr>\n",
       "      <th>2003-01-03 17:00:00</th>\n",
       "      <td>NaN</td>\n",
       "      <td>NaN</td>\n",
       "      <td>NaN</td>\n",
       "      <td>NaN</td>\n",
       "      <td>Friday</td>\n",
       "    </tr>\n",
       "    <tr>\n",
       "      <th>2003-01-03 18:00:00</th>\n",
       "      <td>NaN</td>\n",
       "      <td>NaN</td>\n",
       "      <td>NaN</td>\n",
       "      <td>NaN</td>\n",
       "      <td>Friday</td>\n",
       "    </tr>\n",
       "    <tr>\n",
       "      <th>2003-01-03 19:00:00</th>\n",
       "      <td>NaN</td>\n",
       "      <td>NaN</td>\n",
       "      <td>NaN</td>\n",
       "      <td>NaN</td>\n",
       "      <td>Friday</td>\n",
       "    </tr>\n",
       "    <tr>\n",
       "      <th>2003-01-03 20:00:00</th>\n",
       "      <td>NaN</td>\n",
       "      <td>NaN</td>\n",
       "      <td>NaN</td>\n",
       "      <td>NaN</td>\n",
       "      <td>Friday</td>\n",
       "    </tr>\n",
       "  </tbody>\n",
       "</table>\n",
       "</div>"
      ],
      "text/plain": [
       "                       open    high     low   close  day_of_wk\n",
       "date                                                          \n",
       "2003-01-01 19:00:00  1.0504  1.0504  1.0476  1.0485  Wednesday\n",
       "2003-01-01 20:00:00  1.0487  1.0498  1.0485  1.0487  Wednesday\n",
       "2003-01-01 21:00:00  1.0488  1.0489  1.0477  1.0477  Wednesday\n",
       "2003-01-01 22:00:00  1.0478  1.0483  1.0468  1.0470  Wednesday\n",
       "2003-01-01 23:00:00  1.0469  1.0477  1.0469  1.0476  Wednesday\n",
       "2003-01-02 00:00:00  1.0475  1.0476  1.0470  1.0475   Thursday\n",
       "2003-01-02 01:00:00  1.0474  1.0478  1.0470  1.0474   Thursday\n",
       "2003-01-02 02:00:00  1.0475  1.0488  1.0433  1.0436   Thursday\n",
       "2003-01-02 03:00:00  1.0437  1.0464  1.0434  1.0460   Thursday\n",
       "2003-01-02 04:00:00  1.0459  1.0485  1.0457  1.0475   Thursday\n",
       "2003-01-02 05:00:00  1.0474  1.0485  1.0473  1.0480   Thursday\n",
       "2003-01-02 06:00:00  1.0481  1.0481  1.0468  1.0469   Thursday\n",
       "2003-01-02 07:00:00  1.0468  1.0474  1.0449  1.0449   Thursday\n",
       "2003-01-02 08:00:00  1.0448  1.0469  1.0445  1.0466   Thursday\n",
       "2003-01-02 09:00:00  1.0465  1.0470  1.0454  1.0462   Thursday\n",
       "2003-01-02 10:00:00  1.0461  1.0461  1.0366  1.0375   Thursday\n",
       "2003-01-02 11:00:00  1.0374  1.0385  1.0364  1.0370   Thursday\n",
       "2003-01-02 12:00:00  1.0369  1.0369  1.0338  1.0352   Thursday\n",
       "2003-01-02 13:00:00  1.0353  1.0367  1.0349  1.0354   Thursday\n",
       "2003-01-02 14:00:00  1.0353  1.0363  1.0352  1.0361   Thursday\n",
       "2003-01-02 15:00:00  1.0362  1.0366  1.0360  1.0363   Thursday\n",
       "2003-01-02 16:00:00  1.0362  1.0365  1.0359  1.0360   Thursday\n",
       "2003-01-02 17:00:00  1.0357  1.0367  1.0357  1.0364   Thursday\n",
       "2003-01-02 18:00:00  1.0365  1.0369  1.0361  1.0361   Thursday\n",
       "2003-01-02 19:00:00  1.0360  1.0378  1.0355  1.0375   Thursday\n",
       "2003-01-02 20:00:00  1.0374  1.0380  1.0373  1.0378   Thursday\n",
       "2003-01-02 21:00:00  1.0377  1.0378  1.0374  1.0375   Thursday\n",
       "2003-01-02 22:00:00  1.0374  1.0381  1.0371  1.0377   Thursday\n",
       "2003-01-02 23:00:00  1.0378  1.0384  1.0378  1.0384   Thursday\n",
       "2003-01-03 00:00:00  1.0383  1.0384  1.0364  1.0370     Friday\n",
       "2003-01-03 01:00:00  1.0369  1.0370  1.0360  1.0368     Friday\n",
       "2003-01-03 02:00:00  1.0367  1.0380  1.0360  1.0363     Friday\n",
       "2003-01-03 03:00:00  1.0362  1.0371  1.0344  1.0345     Friday\n",
       "2003-01-03 04:00:00  1.0344  1.0361  1.0342  1.0356     Friday\n",
       "2003-01-03 05:00:00  1.0356  1.0396  1.0356  1.0393     Friday\n",
       "2003-01-03 06:00:00  1.0394  1.0396  1.0373  1.0376     Friday\n",
       "2003-01-03 07:00:00  1.0375  1.0377  1.0367  1.0371     Friday\n",
       "2003-01-03 08:00:00  1.0371  1.0405  1.0370  1.0396     Friday\n",
       "2003-01-03 09:00:00  1.0395  1.0407  1.0389  1.0399     Friday\n",
       "2003-01-03 10:00:00  1.0398  1.0427  1.0382  1.0419     Friday\n",
       "2003-01-03 11:00:00  1.0418  1.0427  1.0415  1.0420     Friday\n",
       "2003-01-03 12:00:00  1.0419  1.0437  1.0396  1.0415     Friday\n",
       "2003-01-03 13:00:00  1.0416  1.0423  1.0412  1.0417     Friday\n",
       "2003-01-03 14:00:00  1.0418  1.0427  1.0415  1.0415     Friday\n",
       "2003-01-03 15:00:00  1.0417  1.0426  1.0416  1.0416     Friday\n",
       "2003-01-03 16:00:00  1.0417  1.0426  1.0417  1.0423     Friday\n",
       "2003-01-03 17:00:00     NaN     NaN     NaN     NaN     Friday\n",
       "2003-01-03 18:00:00     NaN     NaN     NaN     NaN     Friday\n",
       "2003-01-03 19:00:00     NaN     NaN     NaN     NaN     Friday\n",
       "2003-01-03 20:00:00     NaN     NaN     NaN     NaN     Friday"
      ]
     },
     "execution_count": 23,
     "metadata": {},
     "output_type": "execute_result"
    }
   ],
   "source": [
    "# read in 1 hour timeframe price data\n",
    "df_h1 = pd.read_csv('../data/df_h1.csv', index_col='date')\n",
    "df_h1.index = pd.to_datetime(df_h1.index)\n",
    "df_h1['day_of_wk'] = df_h1.index\n",
    "df_h1['day_of_wk'] = df_h1['day_of_wk'].dt.day_name()\n",
    "df_h1.head(50)"
   ]
  },
  {
   "cell_type": "code",
   "execution_count": 24,
   "metadata": {},
   "outputs": [
    {
     "data": {
      "text/plain": [
       "date\n",
       "2003-01-03 17:00:00    Friday\n",
       "2003-01-03 18:00:00    Friday\n",
       "2003-01-03 19:00:00    Friday\n",
       "2003-01-03 20:00:00    Friday\n",
       "2003-01-03 21:00:00    Friday\n",
       "                        ...  \n",
       "2019-12-29 12:00:00    Sunday\n",
       "2019-12-29 13:00:00    Sunday\n",
       "2019-12-29 14:00:00    Sunday\n",
       "2019-12-29 15:00:00    Sunday\n",
       "2019-12-29 16:00:00    Sunday\n",
       "Name: day_of_wk, Length: 43359, dtype: object"
      ]
     },
     "execution_count": 24,
     "metadata": {},
     "output_type": "execute_result"
    }
   ],
   "source": [
    "# Nulls only occue on Fridays, Saturdays and Sundays when market was closes\n",
    "# Safely drop nulls\n",
    "df_h1[df_h1['open'].isnull()]['day_of_wk']"
   ]
  },
  {
   "cell_type": "code",
   "execution_count": 25,
   "metadata": {},
   "outputs": [
    {
     "data": {
      "text/html": [
       "<div>\n",
       "<style scoped>\n",
       "    .dataframe tbody tr th:only-of-type {\n",
       "        vertical-align: middle;\n",
       "    }\n",
       "\n",
       "    .dataframe tbody tr th {\n",
       "        vertical-align: top;\n",
       "    }\n",
       "\n",
       "    .dataframe thead th {\n",
       "        text-align: right;\n",
       "    }\n",
       "</style>\n",
       "<table border=\"1\" class=\"dataframe\">\n",
       "  <thead>\n",
       "    <tr style=\"text-align: right;\">\n",
       "      <th></th>\n",
       "      <th>open</th>\n",
       "      <th>high</th>\n",
       "      <th>low</th>\n",
       "      <th>close</th>\n",
       "      <th>day_of_wk</th>\n",
       "    </tr>\n",
       "    <tr>\n",
       "      <th>date</th>\n",
       "      <th></th>\n",
       "      <th></th>\n",
       "      <th></th>\n",
       "      <th></th>\n",
       "      <th></th>\n",
       "    </tr>\n",
       "  </thead>\n",
       "  <tbody>\n",
       "    <tr>\n",
       "      <th>2003-01-01 19:00:00</th>\n",
       "      <td>1.0504</td>\n",
       "      <td>1.0504</td>\n",
       "      <td>1.0476</td>\n",
       "      <td>1.0485</td>\n",
       "      <td>Wednesday</td>\n",
       "    </tr>\n",
       "    <tr>\n",
       "      <th>2003-01-01 20:00:00</th>\n",
       "      <td>1.0487</td>\n",
       "      <td>1.0498</td>\n",
       "      <td>1.0485</td>\n",
       "      <td>1.0487</td>\n",
       "      <td>Wednesday</td>\n",
       "    </tr>\n",
       "    <tr>\n",
       "      <th>2003-01-01 21:00:00</th>\n",
       "      <td>1.0488</td>\n",
       "      <td>1.0489</td>\n",
       "      <td>1.0477</td>\n",
       "      <td>1.0477</td>\n",
       "      <td>Wednesday</td>\n",
       "    </tr>\n",
       "    <tr>\n",
       "      <th>2003-01-01 22:00:00</th>\n",
       "      <td>1.0478</td>\n",
       "      <td>1.0483</td>\n",
       "      <td>1.0468</td>\n",
       "      <td>1.0470</td>\n",
       "      <td>Wednesday</td>\n",
       "    </tr>\n",
       "    <tr>\n",
       "      <th>2003-01-01 23:00:00</th>\n",
       "      <td>1.0469</td>\n",
       "      <td>1.0477</td>\n",
       "      <td>1.0469</td>\n",
       "      <td>1.0476</td>\n",
       "      <td>Wednesday</td>\n",
       "    </tr>\n",
       "    <tr>\n",
       "      <th>2003-01-02 00:00:00</th>\n",
       "      <td>1.0475</td>\n",
       "      <td>1.0476</td>\n",
       "      <td>1.0470</td>\n",
       "      <td>1.0475</td>\n",
       "      <td>Thursday</td>\n",
       "    </tr>\n",
       "    <tr>\n",
       "      <th>2003-01-02 01:00:00</th>\n",
       "      <td>1.0474</td>\n",
       "      <td>1.0478</td>\n",
       "      <td>1.0470</td>\n",
       "      <td>1.0474</td>\n",
       "      <td>Thursday</td>\n",
       "    </tr>\n",
       "    <tr>\n",
       "      <th>2003-01-02 02:00:00</th>\n",
       "      <td>1.0475</td>\n",
       "      <td>1.0488</td>\n",
       "      <td>1.0433</td>\n",
       "      <td>1.0436</td>\n",
       "      <td>Thursday</td>\n",
       "    </tr>\n",
       "    <tr>\n",
       "      <th>2003-01-02 03:00:00</th>\n",
       "      <td>1.0437</td>\n",
       "      <td>1.0464</td>\n",
       "      <td>1.0434</td>\n",
       "      <td>1.0460</td>\n",
       "      <td>Thursday</td>\n",
       "    </tr>\n",
       "    <tr>\n",
       "      <th>2003-01-02 04:00:00</th>\n",
       "      <td>1.0459</td>\n",
       "      <td>1.0485</td>\n",
       "      <td>1.0457</td>\n",
       "      <td>1.0475</td>\n",
       "      <td>Thursday</td>\n",
       "    </tr>\n",
       "  </tbody>\n",
       "</table>\n",
       "</div>"
      ],
      "text/plain": [
       "                       open    high     low   close  day_of_wk\n",
       "date                                                          \n",
       "2003-01-01 19:00:00  1.0504  1.0504  1.0476  1.0485  Wednesday\n",
       "2003-01-01 20:00:00  1.0487  1.0498  1.0485  1.0487  Wednesday\n",
       "2003-01-01 21:00:00  1.0488  1.0489  1.0477  1.0477  Wednesday\n",
       "2003-01-01 22:00:00  1.0478  1.0483  1.0468  1.0470  Wednesday\n",
       "2003-01-01 23:00:00  1.0469  1.0477  1.0469  1.0476  Wednesday\n",
       "2003-01-02 00:00:00  1.0475  1.0476  1.0470  1.0475   Thursday\n",
       "2003-01-02 01:00:00  1.0474  1.0478  1.0470  1.0474   Thursday\n",
       "2003-01-02 02:00:00  1.0475  1.0488  1.0433  1.0436   Thursday\n",
       "2003-01-02 03:00:00  1.0437  1.0464  1.0434  1.0460   Thursday\n",
       "2003-01-02 04:00:00  1.0459  1.0485  1.0457  1.0475   Thursday"
      ]
     },
     "execution_count": 25,
     "metadata": {},
     "output_type": "execute_result"
    }
   ],
   "source": [
    "df_h1 = df_h1.dropna()\n",
    "df_h1.head(10)"
   ]
  },
  {
   "cell_type": "code",
   "execution_count": 26,
   "metadata": {},
   "outputs": [
    {
     "data": {
      "text/plain": [
       "(105631, 5)"
      ]
     },
     "execution_count": 26,
     "metadata": {},
     "output_type": "execute_result"
    }
   ],
   "source": [
    "df_h1.shape"
   ]
  },
  {
   "cell_type": "code",
   "execution_count": 27,
   "metadata": {},
   "outputs": [
    {
     "data": {
      "image/png": "[encoded data removed]",
      "text/plain": [
       "<Figure size 864x432 with 1 Axes>"
      ]
     },
     "metadata": {},
     "output_type": "display_data"
    }
   ],
   "source": [
    "plt.figure(figsize=(12,6))\n",
    "\n",
    "plt.plot(df_h1['close'], label='close')\n",
    "\n",
    "plt.xticks(fontsize=15);\n",
    "plt.yticks(fontsize=15);\n",
    "plt.xlabel(\"Date\", fontsize=20)\n",
    "plt.ylabel(\"Close Price\", fontsize=20)\n",
    "plt.title(label = 'EURUSD H1 Close', fontsize=20);\n",
    "#plt.legend()"
   ]
  },
  {
   "cell_type": "markdown",
   "metadata": {},
   "source": [
    "### <font color=green>Stationarity Check</font>"
   ]
  },
  {
   "cell_type": "code",
   "execution_count": 28,
   "metadata": {},
   "outputs": [],
   "source": [
    "def interpret_dftest(dftest):\n",
    "    dfoutput = pd.Series(dftest[0:2], index=['Test Statistic','p-value'])\n",
    "    return dfoutput"
   ]
  },
  {
   "cell_type": "code",
   "execution_count": 29,
   "metadata": {},
   "outputs": [
    {
     "data": {
      "text/plain": [
       "Test Statistic   -2.262785\n",
       "p-value           0.184251\n",
       "dtype: float64"
      ]
     },
     "execution_count": 29,
     "metadata": {},
     "output_type": "execute_result"
    }
   ],
   "source": [
    "interpret_dftest(adfuller(df_h1['close']))"
   ]
  },
  {
   "cell_type": "markdown",
   "metadata": {},
   "source": [
    "<font color=green>p-value > 0.05. We cannot reject the hypothesis that close price is not stationary</font>"
   ]
  },
  {
   "cell_type": "code",
   "execution_count": 30,
   "metadata": {},
   "outputs": [
    {
     "name": "stdout",
     "output_type": "stream",
     "text": [
      "Checking difference of 1.\n",
      "p-value = 0.0.\n",
      "\n",
      "Differencing our time series by d=1 yields a stationary time series!\n"
     ]
    }
   ],
   "source": [
    "# loop to find the lowest difference value d.\n",
    "\n",
    "# Iterate through all possible differences.\n",
    "for d in range(1, len(df_h1['close'])):\n",
    "    \n",
    "    # Print out a counter and the corresponding p-value.\n",
    "    print(f'Checking difference of {d}.')\n",
    "    print(f'p-value = {interpret_dftest(adfuller(df_h1[\"close\"].diff(d).dropna()))[\"p-value\"]}.')\n",
    "          \n",
    "    # If our data, differenced by d time periods, are stationary, print that out!\n",
    "    if interpret_dftest(adfuller(df_h1['close'].diff(d).dropna()))['p-value'] < 0.05:\n",
    "        print()\n",
    "        print(f'Differencing our time series by d={d} yields a stationary time series!')\n",
    "        break"
   ]
  },
  {
   "cell_type": "code",
   "execution_count": 31,
   "metadata": {},
   "outputs": [
    {
     "data": {
      "text/html": [
       "<div>\n",
       "<style scoped>\n",
       "    .dataframe tbody tr th:only-of-type {\n",
       "        vertical-align: middle;\n",
       "    }\n",
       "\n",
       "    .dataframe tbody tr th {\n",
       "        vertical-align: top;\n",
       "    }\n",
       "\n",
       "    .dataframe thead th {\n",
       "        text-align: right;\n",
       "    }\n",
       "</style>\n",
       "<table border=\"1\" class=\"dataframe\">\n",
       "  <thead>\n",
       "    <tr style=\"text-align: right;\">\n",
       "      <th></th>\n",
       "      <th>open</th>\n",
       "      <th>high</th>\n",
       "      <th>low</th>\n",
       "      <th>close</th>\n",
       "      <th>day_of_wk</th>\n",
       "      <th>diff_1</th>\n",
       "    </tr>\n",
       "    <tr>\n",
       "      <th>date</th>\n",
       "      <th></th>\n",
       "      <th></th>\n",
       "      <th></th>\n",
       "      <th></th>\n",
       "      <th></th>\n",
       "      <th></th>\n",
       "    </tr>\n",
       "  </thead>\n",
       "  <tbody>\n",
       "    <tr>\n",
       "      <th>2003-01-01 19:00:00</th>\n",
       "      <td>1.0504</td>\n",
       "      <td>1.0504</td>\n",
       "      <td>1.0476</td>\n",
       "      <td>1.0485</td>\n",
       "      <td>Wednesday</td>\n",
       "      <td>NaN</td>\n",
       "    </tr>\n",
       "    <tr>\n",
       "      <th>2003-01-01 20:00:00</th>\n",
       "      <td>1.0487</td>\n",
       "      <td>1.0498</td>\n",
       "      <td>1.0485</td>\n",
       "      <td>1.0487</td>\n",
       "      <td>Wednesday</td>\n",
       "      <td>0.0002</td>\n",
       "    </tr>\n",
       "    <tr>\n",
       "      <th>2003-01-01 21:00:00</th>\n",
       "      <td>1.0488</td>\n",
       "      <td>1.0489</td>\n",
       "      <td>1.0477</td>\n",
       "      <td>1.0477</td>\n",
       "      <td>Wednesday</td>\n",
       "      <td>-0.0010</td>\n",
       "    </tr>\n",
       "    <tr>\n",
       "      <th>2003-01-01 22:00:00</th>\n",
       "      <td>1.0478</td>\n",
       "      <td>1.0483</td>\n",
       "      <td>1.0468</td>\n",
       "      <td>1.0470</td>\n",
       "      <td>Wednesday</td>\n",
       "      <td>-0.0007</td>\n",
       "    </tr>\n",
       "    <tr>\n",
       "      <th>2003-01-01 23:00:00</th>\n",
       "      <td>1.0469</td>\n",
       "      <td>1.0477</td>\n",
       "      <td>1.0469</td>\n",
       "      <td>1.0476</td>\n",
       "      <td>Wednesday</td>\n",
       "      <td>0.0006</td>\n",
       "    </tr>\n",
       "  </tbody>\n",
       "</table>\n",
       "</div>"
      ],
      "text/plain": [
       "                       open    high     low   close  day_of_wk  diff_1\n",
       "date                                                                  \n",
       "2003-01-01 19:00:00  1.0504  1.0504  1.0476  1.0485  Wednesday     NaN\n",
       "2003-01-01 20:00:00  1.0487  1.0498  1.0485  1.0487  Wednesday  0.0002\n",
       "2003-01-01 21:00:00  1.0488  1.0489  1.0477  1.0477  Wednesday -0.0010\n",
       "2003-01-01 22:00:00  1.0478  1.0483  1.0468  1.0470  Wednesday -0.0007\n",
       "2003-01-01 23:00:00  1.0469  1.0477  1.0469  1.0476  Wednesday  0.0006"
      ]
     },
     "execution_count": 31,
     "metadata": {},
     "output_type": "execute_result"
    }
   ],
   "source": [
    "# create close price diff(1)\n",
    "df_h1['diff_1'] = df_h1['close'].diff(1)\n",
    "df_h1.head()"
   ]
  },
  {
   "cell_type": "code",
   "execution_count": 32,
   "metadata": {},
   "outputs": [
    {
     "data": {
      "image/png": "[encoded data removed]",
      "text/plain": [
       "<Figure size 864x432 with 1 Axes>"
      ]
     },
     "metadata": {},
     "output_type": "display_data"
    }
   ],
   "source": [
    "plt.figure(figsize=(12,6))\n",
    "\n",
    "plt.plot(df_h1['diff_1'], color = 'blue', label='close diff_1')\n",
    "\n",
    "plt.xticks(fontsize=15);\n",
    "plt.yticks(fontsize=15);\n",
    "plt.xlabel(\"Date\", fontsize=20)\n",
    "plt.ylabel(\"Price diff(1)\", fontsize=20)\n",
    "plt.title(label = 'EURUSD H1 Close Price diff(1)', fontsize=20);\n",
    "#plt.legend(fontsize=15);"
   ]
  },
  {
   "cell_type": "code",
   "execution_count": 33,
   "metadata": {},
   "outputs": [
    {
     "data": {
      "image/png": "[encoded data removed]",
      "text/plain": [
       "<Figure size 864x432 with 1 Axes>"
      ]
     },
     "metadata": {},
     "output_type": "display_data"
    }
   ],
   "source": [
    "# plot ACF\n",
    "fig, ax = plt.subplots(figsize=(12,6))\n",
    "\n",
    "# Generate plot.\n",
    "plot_acf(df_h1[\"close\"].diff(1).dropna(), lags=50, ax=ax);"
   ]
  },
  {
   "cell_type": "code",
   "execution_count": 34,
   "metadata": {},
   "outputs": [
    {
     "data": {
      "image/png": "[encoded data removed]",
      "text/plain": [
       "<Figure size 864x432 with 1 Axes>"
      ]
     },
     "metadata": {},
     "output_type": "display_data"
    }
   ],
   "source": [
    "# plot PACF\n",
    "fig, ax = plt.subplots(figsize=(12,6))\n",
    "\n",
    "# Generate plot.\n",
    "plot_pacf(df_h1[\"close\"].diff(1).dropna(), lags=50, ax=ax);"
   ]
  },
  {
   "cell_type": "markdown",
   "metadata": {},
   "source": [
    "###### <font color=red> Generally noisy data. Unlikely to fit a good time series model. Will not proceed to train model.</font>"
   ]
  },
  {
   "cell_type": "code",
   "execution_count": null,
   "metadata": {},
   "outputs": [],
   "source": []
  }
 ],
 "metadata": {
  "kernelspec": {
   "display_name": "Python 3",
   "language": "python",
   "name": "python3"
  },
  "language_info": {
   "codemirror_mode": {
    "name": "ipython",
    "version": 3
   },
   "file_extension": ".py",
   "mimetype": "text/x-python",
   "name": "python",
   "nbconvert_exporter": "python",
   "pygments_lexer": "ipython3",
   "version": "3.7.6"
  }
 },
 "nbformat": 4,
 "nbformat_minor": 4
}
